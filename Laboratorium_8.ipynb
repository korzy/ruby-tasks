{
 "metadata": {
  "language": "ruby",
  "name": "",
  "signature": "sha256:0e80352a031b49024d3ad98159882aec9e5039cb58b97b365ecdd410bc62bf1f"
 },
 "nbformat": 3,
 "nbformat_minor": 0,
 "worksheets": [
  {
   "cells": [
    {
     "cell_type": "heading",
     "level": 1,
     "metadata": {},
     "source": [
      "Zapytania z\u0142o\u017cone"
     ]
    },
    {
     "cell_type": "markdown",
     "metadata": {},
     "source": [
      "Przed rozpocz\u0119ciem pracy konieczne jest skonfigurowanie bazy oraz za\u0142adowanie danych:\n",
      "```ruby\n",
      "$:.unshift \".\"\n",
      "require 'db_setup'\n",
      "require 'db_load'\n",
      "```"
     ]
    },
    {
     "cell_type": "code",
     "collapsed": false,
     "input": [
      "$:.unshift \".\"\n",
      "require 'db_setup'\n",
      "require 'db_load'"
     ],
     "language": "python",
     "metadata": {},
     "outputs": [
      {
       "output_type": "stream",
       "stream": "stdout",
       "text": [
        "==  AddIndicesMigration: migrating ============================================\n"
       ]
      },
      {
       "output_type": "stream",
       "stream": "stdout",
       "text": [
        "==  AddIndicesMigration: migrated (0.0000s) ===================================\n"
       ]
      },
      {
       "output_type": "stream",
       "stream": "stdout",
       "text": [
        "\n"
       ]
      },
      {
       "metadata": {},
       "output_type": "pyout",
       "prompt_number": 5,
       "text": [
        "true"
       ]
      }
     ],
     "prompt_number": 5
    },
    {
     "cell_type": "markdown",
     "metadata": {},
     "source": [
      "W dalszych zadaniach b\u0119dzie wykonywa\u0107 polecenia korzystaj\u0105c z nast\u0119puj\u0105cych klas, zmapowanych na odpowiadaj\u0105ce im \n",
      "table w bazie danych:\n",
      "```ruby\n",
      "class Author < ActiveRecord::Base\n",
      "  # name      (string)\n",
      "  # surname   (string)\n",
      "  # born      (datetime) \n",
      "  # died      (datetime)\n",
      "  # image_url (string)\n",
      "  \n",
      "  has_many :books\n",
      "end\n",
      "\n",
      "class Book < ActiveRecord::Base\n",
      "  # title     (string)\n",
      "  # author    (Author)\n",
      "  # published (integer)\n",
      "\n",
      "  belongs_to :author\n",
      "end\n",
      "```"
     ]
    },
    {
     "cell_type": "markdown",
     "metadata": {},
     "source": [
      "ActiveRecord udost\u0119pnia interfejs pozwalaj\u0105cy wyszukiwa\u0107 dane w bazie r\u00f3wnie\u017c z wykorzystaniem zwi\u0105zk\u00f3w zdefiniowanych pomi\u0119dzy\n",
      "klasami. Do definiowania tych zwi\u0105zk\u00f3w s\u0142u\u017c\u0105 polecenia `has_many`, `belongs_to`, `has_one` oraz `has_and_belongs_to_many`.\n",
      "Przyk\u0142adowo je\u015bli chcemy dowiedzie\u0107 si\u0119 kto by\u0142 autorem pierwszej ksi\u0105\u017cki wykonujemy zapytanie:\n",
      "```ruby\n",
      "book = Book.first\n",
      "puts book.title\n",
      "puts book.author\n",
      "```"
     ]
    },
    {
     "cell_type": "code",
     "collapsed": false,
     "input": [
      "book = Book.first\n",
      "puts book.title\n",
      "puts book.author"
     ],
     "language": "python",
     "metadata": {},
     "outputs": [
      {
       "output_type": "stream",
       "stream": "stdout",
       "text": [
        "V\u00e9gj\u00e1t\u00e9k (reg\u00e9ny)\n"
       ]
      },
      {
       "output_type": "stream",
       "stream": "stdout",
       "text": [
        "#<Author:0x00000004a5c040>\n"
       ]
      }
     ],
     "prompt_number": 2
    },
    {
     "cell_type": "markdown",
     "metadata": {},
     "source": [
      "Niestety prezentowany wynik nie jest zbyt u\u017cyteczny. Poniewa\u017c jednak metoda `author` zwraca obiekt, mo\u017cemy na nim wywo\u0142ywa\u0107 \n",
      "metody - tak samo jak w przypadku autora za\u0142adowanego bezpo\u015brednio z wykorzystaniem metod zdefiniowanych dla klasy `Author`\n",
      "```ruby\n",
      "book = Book.first\n",
      "puts book.title\n",
      "puts \"#{book.author.name} #{book.author.surname}\"\n",
      "```"
     ]
    },
    {
     "cell_type": "code",
     "collapsed": false,
     "input": [
      "book = Book.first\n",
      "puts book.title\n",
      "puts \"#{book.author.name} #{book.author.surname}\""
     ],
     "language": "python",
     "metadata": {},
     "outputs": [
      {
       "output_type": "stream",
       "stream": "stdout",
       "text": [
        "V\u00e9gj\u00e1t\u00e9k (reg\u00e9ny)\n"
       ]
      },
      {
       "output_type": "stream",
       "stream": "stdout",
       "text": [
        "Orson Scott Card\n"
       ]
      }
     ],
     "prompt_number": 3
    },
    {
     "cell_type": "markdown",
     "metadata": {},
     "source": [
      "Co wi\u0119cej, je\u015bli mamy do czynienia ze zwi\u0105zkiem jeden-do-wiele b\u0105d\u017a wiele-do-wiele, mo\u017cemy wywy\u0142ywa\u0107 wszystkie dotychczas poznane \n",
      "metody na kolekcji powi\u0105zanych obiekt\u00f3w. Istotnie u\u0142atwia to wyszukiwanie potrzebnych danych:\n",
      "```ruby\n",
      "books = Book.where(\"title like 'A%'\")\n",
      "books.each do |book|\n",
      "  puts book.title\n",
      "end\n",
      "\n",
      "author = Author.where(surname: \"To\u0142stoj\").first\n",
      "books = author.books.where(\"title like 'A%'\")\n",
      "books.each do |book|\n",
      "  puts book.title\n",
      "end\n",
      "```"
     ]
    },
    {
     "cell_type": "code",
     "collapsed": false,
     "input": [
      "author = Author.where(surname: \"To\u0142stoj\").first\n",
      "books = author.books.where(\"title like 'A%'\")\n",
      "books.each do |book|\n",
      "  puts book.title\n",
      "end"
     ],
     "language": "python",
     "metadata": {},
     "outputs": [
      {
       "output_type": "stream",
       "stream": "stdout",
       "text": [
        "Anna Karenina\n"
       ]
      },
      {
       "metadata": {},
       "output_type": "pyout",
       "prompt_number": 5,
       "text": [
        "[#<Book id: 33, title: \"Anna Karenina\", language: nil, author_id: 30, published: 1877, image_url: \"http://commons.wikimedia.org/wiki/Special:FilePath...\">]"
       ]
      }
     ],
     "prompt_number": 5
    },
    {
     "cell_type": "markdown",
     "metadata": {},
     "source": [
      "R\u00f3\u017cnica pomi\u0119dzy tymi zapytaniami polega na tym, \u017ce w pierwszym przypadku szukamy ksi\u0105\u017cki, kt\u00f3rych tytu\u0142 zaczyna si\u0119 na \"A\" \n",
      "w ca\u0142ym zbiorze ksi\u0105\u017cek, a w drugi przypadku w\u015br\u00f3d ksi\u0105\u017cek napisanych przez To\u0142stoja."
     ]
    },
    {
     "cell_type": "markdown",
     "metadata": {},
     "source": [
      "Aby umo\u017cliwi\u0107 formatowanie wynik\u00f3w zapytania, IRuby udost\u0119pnia metod\u0119 `IRuby.html`, kt\u00f3ra pozwala na wy\u015bwietlanie kodu\n",
      "HTML. Przyk\u0142adowo\n",
      "```ruby\n",
      "IRuby.html \"<h1>Test HTML-a</h1>\"\n",
      "```"
     ]
    },
    {
     "cell_type": "code",
     "collapsed": false,
     "input": [
      "IRuby.html \"<h1>Test HTML-a</h1>\""
     ],
     "language": "python",
     "metadata": {},
     "outputs": [
      {
       "html": [
        "<h1>Test HTML-a</h1>"
       ],
       "metadata": {},
       "output_type": "pyout",
       "prompt_number": 6,
       "text": [
        "\"<h1>Test HTML-a</h1>\""
       ]
      }
     ],
     "prompt_number": 6
    },
    {
     "cell_type": "markdown",
     "metadata": {},
     "source": [
      "Dzi\u0119ki temu b\u0119dziemy mogli formatowa\u0107 wyniki zapyta\u0144, a wszczeg\u00f3lno\u015bci wy\u015bwietla\u0107 obrazy przedstwiaj\u0105ce autor\u00f3w oraz ksi\u0105\u017cki. \n",
      "Nale\u017cy jednak wzi\u0105\u0107 pod uwag\u0119, \u017ce nie wszystkie ksi\u0105\u017cki oraz nie wszyscy autorzy posiadaj\u0105 odpowiadaj\u0105ce im obrazki.\n",
      "Aby wy\u015bwietli\u0107 imi\u0119, nazwisko oraz obraz pierwszego autora piszemy:\n",
      "```ruby\n",
      "author = Author.where(\"image_url is not null\").first\n",
      "IRuby.html \"<h1>#{author.name} #{author.surname}</h1><img src='#{author.image_url}'/>\"\n",
      "```"
     ]
    },
    {
     "cell_type": "code",
     "collapsed": false,
     "input": [
      "author = Author.where(\"image_url is not null\").first\n",
      "IRuby.html \"<h1>#{author.name} #{author.surname}</h1><img src='#{author.image_url}'/>\""
     ],
     "language": "python",
     "metadata": {},
     "outputs": [
      {
       "html": [
        "<h1>Orson Scott Card</h1><img src='http://commons.wikimedia.org/wiki/Special:FilePath/Orson_Scott_Card_at_BYU_Symposium_20080216_closeup.jpg?width=300'/>"
       ],
       "metadata": {},
       "output_type": "pyout",
       "prompt_number": 7,
       "text": [
        "\"<h1>Orson Scott Card</h1><img src='http://commons.wikimedia.org/wiki/Special:FilePath/Orson_Scott_Card_at_BYU_Symposium_20080216_closeup.jpg?width=300'/>\""
       ]
      }
     ],
     "prompt_number": 7
    },
    {
     "cell_type": "markdown",
     "metadata": {},
     "source": [
      "Mo\u017cemy r\u00f3wnie\u017c zdefniowa\u0107 funkcj\u0119, np. `display_author`, kt\u00f3rej zadaniem b\u0119dzie wy\u015bwietlenie autora w tej postaci. \n",
      "Jedyny problem polega na tym, \u017ce funkcja `IRuby.html` mo\u017ce by\u0107 wywo\u0142ywana tylko raz. Dlatego je\u015bli chcemy wy\u015bwietli\u0107 kilku autor\u00f3w,\n",
      "musimy po\u0142\u0105czy\u0107 odpowiadaj\u0105ce im kody HTML i wynik przekaza\u0107 do funkcji `html`\n",
      "```ruby\n",
      "def display_author(author)\n",
      "  \"<h1>#{author.name} #{author.surname}</h1><img src='#{author.image_url}'/>\"\n",
      "end\n",
      "\n",
      "author_1 = Author.where(\"image_url is not null\").first\n",
      "author_2 = Author.where(\"image_url is not null\").offset(1).first\n",
      "document = display_author(author_1)\n",
      "document += display_author(author_2)\n",
      "IRuby.html document\n",
      "```"
     ]
    },
    {
     "cell_type": "code",
     "collapsed": false,
     "input": [
      "def display_author(author)\n",
      "  \"<h1>#{author.name} #{author.surname}</h1><img src='#{author.image_url}'/>\"\n",
      "end\n",
      "\n",
      "author_1 = Author.where(\"image_url is not null\").first\n",
      "author_2 = Author.where(\"image_url is not null\").offset(1).first\n",
      "document = display_author(author_1)\n",
      "document += display_author(author_2)\n",
      "IRuby.html document"
     ],
     "language": "python",
     "metadata": {},
     "outputs": [
      {
       "html": [
        "<h1>Orson Scott Card</h1><img src='http://commons.wikimedia.org/wiki/Special:FilePath/Orson_Scott_Card_at_BYU_Symposium_20080216_closeup.jpg?width=300'/><h1>Andrzej Sapkowski</h1><img src='http://commons.wikimedia.org/wiki/Special:FilePath/Sapkowski.jpg?width=300'/>"
       ],
       "metadata": {},
       "output_type": "pyout",
       "prompt_number": 13,
       "text": [
        "\"<h1>Orson Scott Card</h1><img src='http://commons.wikimedia.org/wiki/Special:FilePath/Orson_Scott_Card_at_BYU_Symposium_20080216_closeup.jpg?width=300'/><h1>Andrzej Sapkowski</h1><img src='http://commons.wikimedia.org/wiki/Special:FilePath/Sapkowski.jpg?width=300'/>\""
       ]
      }
     ],
     "prompt_number": 13
    },
    {
     "cell_type": "heading",
     "level": 2,
     "metadata": {},
     "source": [
      "Zadania"
     ]
    },
    {
     "cell_type": "heading",
     "level": 3,
     "metadata": {},
     "source": [
      "Zadanie 1"
     ]
    },
    {
     "cell_type": "markdown",
     "metadata": {},
     "source": [
      "Wy\u015bwietl wszystkich autor\u00f3w, kt\u00f3rzy urodzili si\u0119 przed rokiem 1900."
     ]
    },
    {
     "cell_type": "code",
     "collapsed": false,
     "input": [
      "def display_author(author)\n",
      "  \"<h1>#{author.name} #{author.surname}</h1><img src='#{author.image_url}'/>\"\n",
      "end\n",
      "\n",
      "document = \"\"\n",
      "authors = Author.where(\"born < ?\",Date.parse(\"1900-1-1\"))\n",
      "authors.each do |author|\n",
      "  document += display_author(author)\n",
      "  \n",
      "end\n",
      "IRuby.html document"
     ],
     "language": "python",
     "metadata": {},
     "outputs": [
      {
       "html": [
        "<h1>Juliusz S\u0142owacki</h1><img src=''/><h1>Henryk Sienkiewicz</h1><img src=''/><h1>Eliza Orzeszkowa</h1><img src=''/><h1>Adam Mickiewicz</h1><img src=''/><h1>Jack London</h1><img src='http://commons.wikimedia.org/wiki/Special:FilePath/JackLondon02.jpeg?width=300'/><h1>Miko\u0142aj Kopernik</h1><img src='http://commons.wikimedia.org/wiki/Special:FilePath/Nikolaus_Kopernikus.jpg?width=300'/><h1>Maria Franciszka Koz\u0142owska</h1><img src='http://commons.wikimedia.org/wiki/Special:FilePath/Mateczk_Koz\u0142owska.JPG?width=300'/><h1>William Szekspir</h1><img src='http://commons.wikimedia.org/wiki/Special:FilePath/Shakespeare.jpg?width=300'/><h1>John Ronald Reuel Tolkien</h1><img src='http://commons.wikimedia.org/wiki/Special:FilePath/Tolkien_1916.jpg?width=300'/><h1>Aleksander Dumas (ojciec)</h1><img src='http://commons.wikimedia.org/wiki/Special:FilePath/Dumas_by_Nadar,_1855.jpg?width=300'/><h1>Tadeusz Do\u0142\u0119ga-Mostowicz</h1><img src='http://commons.wikimedia.org/wiki/Special:FilePath/Tadeusz_Dolega-Mostowicz.jpg?width=300'/><h1>Vladimir Nabokov</h1><img src='http://commons.wikimedia.org/wiki/Special:FilePath/Monument_Nabokov_Montreux_23.12.2006.jpg?width=300'/><h1>Adolf Hitler</h1><img src='http://commons.wikimedia.org/wiki/Special:FilePath/Hitler_portrait_crop.jpg?width=300'/><h1>Benedykt Chmielowski</h1><img src='http://commons.wikimedia.org/wiki/Special:FilePath/POL_COA_Na\u0142\u0119cz.svg?width=300'/><h1>Aldous Huxley</h1><img src='http://commons.wikimedia.org/wiki/Special:FilePath/Aldous_Huxley.JPG?width=300'/><h1>Honor\u00e9 de Balzac</h1><img src='http://commons.wikimedia.org/wiki/Special:FilePath/HBalzac.jpg?width=300'/><h1>Franz Kafka</h1><img src='http://commons.wikimedia.org/wiki/Special:FilePath/Kafka1906.jpg?width=300'/><h1>Howard Phillips Lovecraft</h1><img src='http://commons.wikimedia.org/wiki/Special:FilePath/Howard_Phillips_Lovecraft_in_1915.jpg?width=300'/><h1>Lew To\u0142stoj</h1><img src='http://commons.wikimedia.org/wiki/Special:FilePath/Ilya_Efimovich_Repin_(1844-1930)_-_Portrait_of_Leo_Tolstoy_(1887).jpg?width=300'/><h1>Ilja Ilf</h1><img src='http://commons.wikimedia.org/wiki/Special:FilePath/Ilya_Ilf.jpg?width=300'/><h1>Gabriela Zapolska</h1><img src='http://commons.wikimedia.org/wiki/Special:FilePath/Gabriela_Zapolska.PNG?width=300'/><h1>Clive Staples Lewis</h1><img src='http://commons.wikimedia.org/wiki/Special:FilePath/Statue_of_C.S._Lewis,_Belfast.jpg?width=300'/><h1>Iwan Turgieniew</h1><img src='http://commons.wikimedia.org/wiki/Special:FilePath/Turgenev_by_Repin.jpg?width=300'/><h1>Lucy Maud Montgomery</h1><img src='http://commons.wikimedia.org/wiki/Special:FilePath/Lucy_Maud_Montgomery.JPG?width=300'/><h1>Aleksander Majkowski</h1><img src='http://commons.wikimedia.org/wiki/Special:FilePath/POL_Polonia_Restituta_Oficerski_BAR.svg?width=300'/>"
       ],
       "metadata": {},
       "output_type": "pyout",
       "prompt_number": 24,
       "text": [
        "\"<h1>Juliusz S\u0142owacki</h1><img src=''/><h1>Henryk Sienkiewicz</h1><img src=''/><h1>Eliza Orzeszkowa</h1><img src=''/><h1>Adam Mickiewicz</h1><img src=''/><h1>Jack London</h1><img src='http://commons.wikimedia.org/wiki/Special:FilePath/JackLondon02.jpeg?width=300'/><h1>Miko\u0142aj Kopernik</h1><img src='http://commons.wikimedia.org/wiki/Special:FilePath/Nikolaus_Kopernikus.jpg?width=300'/><h1>Maria Franciszka Koz\u0142owska</h1><img src='http://commons.wikimedia.org/wiki/Special:FilePath/Mateczk_Koz\u0142owska.JPG?width=300'/><h1>William Szekspir</h1><img src='http://commons.wikimedia.org/wiki/Special:FilePath/Shakespeare.jpg?width=300'/><h1>John Ronald Reuel Tolkien</h1><img src='http://commons.wikimedia.org/wiki/Special:FilePath/Tolkien_1916.jpg?width=300'/><h1>Aleksander Dumas (ojciec)</h1><img src='http://commons.wikimedia.org/wiki/Special:FilePath/Dumas_by_Nadar,_1855.jpg?width=300'/><h1>Tadeusz Do\u0142\u0119ga-Mostowicz</h1><img src='http://commons.wikimedia.org/wiki/Special:FilePath/Tadeusz_Dolega-Mostowicz.jpg?width=300'/><h1>Vladimir Nabokov</h1><img src='http://commons.wikimedia.org/wiki/Special:FilePath/Monument_Nabokov_Montreux_23.12.2006.jpg?width=300'/><h1>Adolf Hitler</h1><img src='http://commons.wikimedia.org/wiki/Special:FilePath/Hitler_portrait_crop.jpg?width=300'/><h1>Benedykt Chmielowski</h1><img src='http://commons.wikimedia.org/wiki/Special:FilePath/POL_COA_Na\u0142\u0119cz.svg?width=300'/><h1>Aldous Huxley</h1><img src='http://commons.wikimedia.org/wiki/Special:FilePath/Aldous_Huxley.JPG?width=300'/><h1>Honor\u00e9 de Balzac</h1><img src='http://commons.wikimedia.org/wiki/Special:FilePath/HBalzac.jpg?width=300'/><h1>Franz Kafka</h1><img src='http://commons.wikimedia.org/wiki/Special:FilePath/Kafka1906.jpg?width=300'/><h1>Howard Phillips Lovecraft</h1><img src='http://commons.wikimedia.org/wiki/Special:FilePath/Howard_Phillips_Lovecraft_in_1915.jpg?width=300'/><h1>Lew To\u0142stoj</h1><img src='http://commons.wikimedia.org/wiki/Special:FilePath/Ilya_Efimovich_Repin_(1844-1930)_-_Portrait_of_Leo_Tolstoy_(1887).jpg?width=300'/><h1>Ilja Ilf</h1><img src='http://commons.wikimedia.org/wiki/Special:FilePath/Ilya_Ilf.jpg?width=300'/><h1>Gabriela Zapolska</h1><img src='http://commons.wikimedia.org/wiki/Special:FilePath/Gabriela_Zapolska.PNG?width=300'/><h1>Clive Staples Lewis</h1><img src='http://commons.wikimedia.org/wiki/Special:FilePath/Statue_of_C.S._Lewis,_Belfast.jpg?width=300'/><h1>Iwan Turgieniew</h1><img src='http://commons.wikimedia.org/wiki/Special:FilePath/Turgenev_by_Repin.jpg?width=300'/><h1>Lucy Maud Montgomery</h1><img src='http://commons.wikimedia.org/wiki/Special:FilePath/Lucy_Maud_Montgomery.JPG?width=300'/><h1>Aleksander Majkowski</h1><img src='http://commons.wikimedia.org/wiki/Special:FilePath/POL_Polonia_Restituta_Oficerski_BAR.svg?width=300'/>\""
       ]
      }
     ],
     "prompt_number": 24
    },
    {
     "cell_type": "heading",
     "level": 3,
     "metadata": {},
     "source": [
      "Zadanie 2"
     ]
    },
    {
     "cell_type": "markdown",
     "metadata": {},
     "source": [
      "Zmodyfikuj funkcj\u0119 wy\u015bwietlaj\u0105c\u0105 autor\u00f3w tak aby obejmowa\u0142a ich dat\u0119 urodzin i \u015bmierci w formacie `dzie\u0144.miesi\u0105c.rok`. Nast\u0119pnie wy\u015bwietl wszystkich autor\u00f3w,\n",
      "kt\u00f3rzy zmarli w XX wieku."
     ]
    },
    {
     "cell_type": "code",
     "collapsed": false,
     "input": [
      "def display_twenty(author)\n",
      "  \"<h1>#{author.name} #{author.surname} #{author.born.strftime(\"%d-%m-%Y\")} #{author.died.strftime(\"%d-%m-%Y\")}</h1><img src='#{author.image_url}'/>\"\n",
      "end\n",
      "twenty =\"\"\n",
      "authors = Author.where(died: (Date.parse(\"1901-01-01\")..Date.parse(\"2000-12-31\")))\n",
      "authors.each do |author|\n",
      "  twenty += display_twenty(author)\n",
      "  \n",
      "end\n",
      "IRuby.html twenty"
     ],
     "language": "python",
     "metadata": {},
     "outputs": [
      {
       "html": [
        "<h1>Henryk Sienkiewicz 05-05-1846 15-11-1916</h1><img src=''/><h1>Eliza Orzeszkowa 06-06-1841 18-05-1910</h1><img src=''/><h1>Jack London 12-01-1876 22-11-1916</h1><img src='http://commons.wikimedia.org/wiki/Special:FilePath/JackLondon02.jpeg?width=300'/><h1>Antoni Go\u0142ubiew 25-02-1907 27-06-1979</h1><img src='http://commons.wikimedia.org/wiki/Special:FilePath/Antoni_Golubiew.jpg?width=300'/><h1>George Orwell 25-06-1903 21-01-1950</h1><img src='http://commons.wikimedia.org/wiki/Special:FilePath/GeoreOrwell.jpg?width=300'/><h1>John Ronald Reuel Tolkien 03-01-1892 02-09-1973</h1><img src='http://commons.wikimedia.org/wiki/Special:FilePath/Tolkien_1916.jpg?width=300'/><h1>Tadeusz Do\u0142\u0119ga-Mostowicz 10-08-1898 20-09-1939</h1><img src='http://commons.wikimedia.org/wiki/Special:FilePath/Tadeusz_Dolega-Mostowicz.jpg?width=300'/><h1>Vladimir Nabokov 22-04-1899 02-07-1977</h1><img src='http://commons.wikimedia.org/wiki/Special:FilePath/Monument_Nabokov_Montreux_23.12.2006.jpg?width=300'/><h1>Adolf Hitler 20-04-1889 30-04-1945</h1><img src='http://commons.wikimedia.org/wiki/Special:FilePath/Hitler_portrait_crop.jpg?width=300'/><h1>Aldous Huxley 26-07-1894 22-11-1963</h1><img src='http://commons.wikimedia.org/wiki/Special:FilePath/Aldous_Huxley.JPG?width=300'/><h1>Franz Kafka 03-07-1883 03-06-1924</h1><img src='http://commons.wikimedia.org/wiki/Special:FilePath/Kafka1906.jpg?width=300'/><h1>Howard Phillips Lovecraft 20-08-1890 15-03-1937</h1><img src='http://commons.wikimedia.org/wiki/Special:FilePath/Howard_Phillips_Lovecraft_in_1915.jpg?width=300'/><h1>Karol Olgierd Borchardt 25-03-1905 20-05-1986</h1><img src='http://commons.wikimedia.org/wiki/Special:FilePath/Karol_Olgierd_Borchardt's_house_in_Gdynia.jpg?width=300'/><h1>Lew To\u0142stoj 09-09-1828 20-11-1910</h1><img src='http://commons.wikimedia.org/wiki/Special:FilePath/Ilya_Efimovich_Repin_(1844-1930)_-_Portrait_of_Leo_Tolstoy_(1887).jpg?width=300'/><h1>Janusz Zajdel 15-08-1938 19-07-1985</h1><img src='http://commons.wikimedia.org/wiki/Special:FilePath/Janusz_A_Zajdel.jpg?width=300'/><h1>Isaac Asimov 04-10-1919 06-04-1992</h1><img src='http://commons.wikimedia.org/wiki/Special:FilePath/Isaac.Asimov01.jpg?width=300'/><h1>Ilja Ilf 15-10-1897 13-04-1937</h1><img src='http://commons.wikimedia.org/wiki/Special:FilePath/Ilya_Ilf.jpg?width=300'/><h1>Jewgienij Pietrow (pisarz) 13-12-1903 02-07-1942</h1><img src='http://commons.wikimedia.org/wiki/Special:FilePath/Yevgeny_Petrov.jpg?width=300'/><h1>Gabriela Zapolska 30-03-1857 17-12-1921</h1><img src='http://commons.wikimedia.org/wiki/Special:FilePath/Gabriela_Zapolska.PNG?width=300'/><h1>Clive Staples Lewis 29-11-1898 22-11-1963</h1><img src='http://commons.wikimedia.org/wiki/Special:FilePath/Statue_of_C.S._Lewis,_Belfast.jpg?width=300'/><h1>Lucy Maud Montgomery 30-11-1874 24-04-1942</h1><img src='http://commons.wikimedia.org/wiki/Special:FilePath/Lucy_Maud_Montgomery.JPG?width=300'/><h1>Alfred Szklarski 21-01-1912 09-04-1992</h1><img src='http://commons.wikimedia.org/wiki/Special:FilePath/Katowice_-_pomnik_Alfred_Szklarski.JPG?width=300'/><h1>Aleksander Majkowski 17-07-1876 10-02-1938</h1><img src='http://commons.wikimedia.org/wiki/Special:FilePath/POL_Polonia_Restituta_Oficerski_BAR.svg?width=300'/><h1>Ian Fleming 28-05-1908 12-08-1964</h1><img src='http://commons.wikimedia.org/wiki/Special:FilePath/For_Your_Eyes_Only.jpg?width=300'/>"
       ],
       "metadata": {},
       "output_type": "pyout",
       "prompt_number": 33,
       "text": [
        "\"<h1>Henryk Sienkiewicz 05-05-1846 15-11-1916</h1><img src=''/><h1>Eliza Orzeszkowa 06-06-1841 18-05-1910</h1><img src=''/><h1>Jack London 12-01-1876 22-11-1916</h1><img src='http://commons.wikimedia.org/wiki/Special:FilePath/JackLondon02.jpeg?width=300'/><h1>Antoni Go\u0142ubiew 25-02-1907 27-06-1979</h1><img src='http://commons.wikimedia.org/wiki/Special:FilePath/Antoni_Golubiew.jpg?width=300'/><h1>George Orwell 25-06-1903 21-01-1950</h1><img src='http://commons.wikimedia.org/wiki/Special:FilePath/GeoreOrwell.jpg?width=300'/><h1>John Ronald Reuel Tolkien 03-01-1892 02-09-1973</h1><img src='http://commons.wikimedia.org/wiki/Special:FilePath/Tolkien_1916.jpg?width=300'/><h1>Tadeusz Do\u0142\u0119ga-Mostowicz 10-08-1898 20-09-1939</h1><img src='http://commons.wikimedia.org/wiki/Special:FilePath/Tadeusz_Dolega-Mostowicz.jpg?width=300'/><h1>Vladimir Nabokov 22-04-1899 02-07-1977</h1><img src='http://commons.wikimedia.org/wiki/Special:FilePath/Monument_Nabokov_Montreux_23.12.2006.jpg?width=300'/><h1>Adolf Hitler 20-04-1889 30-04-1945</h1><img src='http://commons.wikimedia.org/wiki/Special:FilePath/Hitler_portrait_crop.jpg?width=300'/><h1>Aldous Huxley 26-07-1894 22-11-1963</h1><img src='http://commons.wikimedia.org/wiki/Special:FilePath/Aldous_Huxley.JPG?width=300'/><h1>Franz Kafka 03-07-1883 03-06-1924</h1><img src='http://commons.wikimedia.org/wiki/Special:FilePath/Kafka1906.jpg?width=300'/><h1>Howard Phillips Lovecraft 20-08-1890 15-03-1937</h1><img src='http://commons.wikimedia.org/wiki/Special:FilePath/Howard_Phillips_Lovecraft_in_1915.jpg?width=300'/><h1>Karol Olgierd Borchardt 25-03-1905 20-05-1986</h1><img src='http://commons.wikimedia.org/wiki/Special:FilePath/Karol_Olgierd_Borchardt's_house_in_Gdynia.jpg?width=300'/><h1>Lew To\u0142stoj 09-09-1828 20-11-1910</h1><img src='http://commons.wikimedia.org/wiki/Special:FilePath/Ilya_Efimovich_Repin_(1844-1930)_-_Portrait_of_Leo_Tolstoy_(1887).jpg?width=300'/><h1>Janusz Zajdel 15-08-1938 19-07-1985</h1><img src='http://commons.wikimedia.org/wiki/Special:FilePath/Janusz_A_Zajdel.jpg?width=300'/><h1>Isaac Asimov 04-10-1919 06-04-1992</h1><img src='http://commons.wikimedia.org/wiki/Special:FilePath/Isaac.Asimov01.jpg?width=300'/><h1>Ilja Ilf 15-10-1897 13-04-1937</h1><img src='http://commons.wikimedia.org/wiki/Special:FilePath/Ilya_Ilf.jpg?width=300'/><h1>Jewgienij Pietrow (pisarz) 13-12-1903 02-07-1942</h1><img src='http://commons.wikimedia.org/wiki/Special:FilePath/Yevgeny_Petrov.jpg?width=300'/><h1>Gabriela Zapolska 30-03-1857 17-12-1921</h1><img src='http://commons.wikimedia.org/wiki/Special:FilePath/Gabriela_Zapolska.PNG?width=300'/><h1>Clive Staples Lewis 29-11-1898 22-11-1963</h1><img src='http://commons.wikimedia.org/wiki/Special:FilePath/Statue_of_C.S._Lewis,_Belfast.jpg?width=300'/><h1>Lucy Maud Montgomery 30-11-1874 24-04-1942</h1><img src='http://commons.wikimedia.org/wiki/Special:FilePath/Lucy_Maud_Montgomery.JPG?width=300'/><h1>Alfred Szklarski 21-01-1912 09-04-1992</h1><img src='http://commons.wikimedia.org/wiki/Special:FilePath/Katowice_-_pomnik_Alfred_Szklarski.JPG?width=300'/><h1>Aleksander Majkowski 17-07-1876 10-02-1938</h1><img src='http://commons.wikimedia.org/wiki/Special:FilePath/POL_Polonia_Restituta_Oficerski_BAR.svg?width=300'/><h1>Ian Fleming 28-05-1908 12-08-1964</h1><img src='http://commons.wikimedia.org/wiki/Special:FilePath/For_Your_Eyes_Only.jpg?width=300'/>\""
       ]
      }
     ],
     "prompt_number": 33
    },
    {
     "cell_type": "heading",
     "level": 3,
     "metadata": {},
     "source": [
      "Zadanie 3"
     ]
    },
    {
     "cell_type": "markdown",
     "metadata": {},
     "source": [
      "Wy\u015bwietl 5 najm\u0142odszych autor\u00f3w, kt\u00f3rzy posiadaj\u0105 przypisane zdj\u0119cie."
     ]
    },
    {
     "cell_type": "code",
     "collapsed": false,
     "input": [
      "def display_young(author)\n",
      "  \"<h1>#{author.name} #{author.surname} #{author.born.strftime(\"%d-%m-%Y\")} </h1><img src='#{author.image_url}'/>\"\n",
      "end\n",
      "young_list = \"\"\n",
      "author_young = Author.where(\"image_url is not null\").where(\"born is not null\").order(\"born DESC\").limit(5)\n",
      "\n",
      "\n",
      "author_young.each do |author|\n",
      "  young_list += display_young(author)\n",
      "  \n",
      "end\n",
      "\n",
      "IRuby.html young_list"
     ],
     "language": "python",
     "metadata": {},
     "outputs": [
      {
       "html": [
        "<h1>Andrzej Pilipiuk 20-03-1974 </h1><img src='http://commons.wikimedia.org/wiki/Special:FilePath/Andrzej_Pilipiuk-Polcon2006.jpg?width=300'/><h1>J. K. Rowling 31-07-1965 </h1><img src='http://commons.wikimedia.org/wiki/Special:FilePath/J._K._Rowling_2010.jpg?width=300'/><h1>Rafa\u0142 A. Ziemkiewicz 13-09-1964 </h1><img src='http://commons.wikimedia.org/wiki/Special:FilePath/Rafa\u0142_Ziemkiewicz.jpg?width=300'/><h1>Boris Akunin 20-05-1956 </h1><img src='http://commons.wikimedia.org/wiki/Special:FilePath/Boris_Akunin_2012.jpg?width=300'/><h1>Orson Scott Card 24-08-1951 </h1><img src='http://commons.wikimedia.org/wiki/Special:FilePath/Orson_Scott_Card_at_BYU_Symposium_20080216_closeup.jpg?width=300'/>"
       ],
       "metadata": {},
       "output_type": "pyout",
       "prompt_number": 47,
       "text": [
        "\"<h1>Andrzej Pilipiuk 20-03-1974 </h1><img src='http://commons.wikimedia.org/wiki/Special:FilePath/Andrzej_Pilipiuk-Polcon2006.jpg?width=300'/><h1>J. K. Rowling 31-07-1965 </h1><img src='http://commons.wikimedia.org/wiki/Special:FilePath/J._K._Rowling_2010.jpg?width=300'/><h1>Rafa\u0142 A. Ziemkiewicz 13-09-1964 </h1><img src='http://commons.wikimedia.org/wiki/Special:FilePath/Rafa\u0142_Ziemkiewicz.jpg?width=300'/><h1>Boris Akunin 20-05-1956 </h1><img src='http://commons.wikimedia.org/wiki/Special:FilePath/Boris_Akunin_2012.jpg?width=300'/><h1>Orson Scott Card 24-08-1951 </h1><img src='http://commons.wikimedia.org/wiki/Special:FilePath/Orson_Scott_Card_at_BYU_Symposium_20080216_closeup.jpg?width=300'/>\""
       ]
      }
     ],
     "prompt_number": 47
    },
    {
     "cell_type": "heading",
     "level": 3,
     "metadata": {},
     "source": [
      "Zadanie 4"
     ]
    },
    {
     "cell_type": "markdown",
     "metadata": {},
     "source": [
      "Zdefiniuj funkcj\u0119 `display_book`, kt\u00f3ra b\u0119dzie zwraca\u0142a fragment kodu HTML obejmuj\u0105cy tytu\u0142 ksi\u0105\u017cki, rok jej wydania oraz\n",
      "przypisany obrazek.\n",
      "Wy\u015bwietl najwcze\u015bniej wydan\u0105 ksi\u0105\u017ck\u0119."
     ]
    },
    {
     "cell_type": "code",
     "collapsed": false,
     "input": [
      "def display_book(book)\n",
      "  \"<h1> #{book.title} #{book.published} </h1><img src='#{book.image_url}'/>\"\n",
      "end\n",
      "book_list =\"\"\n",
      "\n",
      "book = Book.where(\"published is not null\").order(:published).first\n",
      "\n",
      "book_list += display_book(book)\n",
      "\n",
      "IRuby.html book_list\n"
     ],
     "language": "python",
     "metadata": {},
     "outputs": [
      {
       "html": [
        "<h1> Ojcowie i dzieci 0 </h1><img src='http://commons.wikimedia.org/wiki/Special:FilePath/Otsy1880.jpg?width=300'/>"
       ],
       "metadata": {},
       "output_type": "pyout",
       "prompt_number": 25,
       "text": [
        "\"<h1> Ojcowie i dzieci 0 </h1><img src='http://commons.wikimedia.org/wiki/Special:FilePath/Otsy1880.jpg?width=300'/>\""
       ]
      }
     ],
     "prompt_number": 25
    },
    {
     "cell_type": "heading",
     "level": 3,
     "metadata": {},
     "source": [
      "Zadanie 5"
     ]
    },
    {
     "cell_type": "markdown",
     "metadata": {},
     "source": [
      "Wy\u015bwietl wszystkie ksi\u0105\u017cki, kt\u00f3re nie maj\u0105 przypisanego roku wydania."
     ]
    },
    {
     "cell_type": "code",
     "collapsed": false,
     "input": [
      "books = Book.where(\"published is null\")\n",
      "no = \"\"\n",
      "books.each do |book|\n",
      "  no += display_book(book)\n",
      "end\n",
      "\n",
      "IRuby.html no"
     ],
     "language": "python",
     "metadata": {},
     "outputs": [
      {
       "html": [
        "<h1> V\u00e9gj\u00e1t\u00e9k (reg\u00e9ny)  </h1><img src=''/><h1> Hamlet  </h1><img src='http://commons.wikimedia.org/wiki/Special:FilePath/Hamlet_quarto_3rd.jpg?width=300'/>"
       ],
       "metadata": {},
       "output_type": "pyout",
       "prompt_number": 27,
       "text": [
        "\"<h1> V\u00e9gj\u00e1t\u00e9k (reg\u00e9ny)  </h1><img src=''/><h1> Hamlet  </h1><img src='http://commons.wikimedia.org/wiki/Special:FilePath/Hamlet_quarto_3rd.jpg?width=300'/>\""
       ]
      }
     ],
     "prompt_number": 27
    },
    {
     "cell_type": "heading",
     "level": 3,
     "metadata": {},
     "source": [
      "Zadanie 6"
     ]
    },
    {
     "cell_type": "markdown",
     "metadata": {},
     "source": [
      "Zmodyfikuj funkcj\u0119 `display_author` tak, aby wy\u015bwietla\u0142a r\u00f3wnie\u017c wszystkie ksi\u0105\u017cki napisane przez autora. U\u017cyj znacznika `<ul>`.\n",
      "Korzystaj\u0105c z tej funkcji wy\u015bwietl opis Stanis\u0142awa Lema."
     ]
    },
    {
     "cell_type": "code",
     "collapsed": false,
     "input": [
      "def display_author(author)\n",
      "  lem_list = \"\"\n",
      "  lem_list += \"<h1>#{author.name} #{author.surname} #{author.born.strftime(\"%d-%m-%Y\")} </h1><img src='#{author.image_url}'/>\"\n",
      "  lem_list += \"<ul>\"\n",
      "  books = author.books\n",
      "  books.each do |book|\n",
      "    lem_list += \"<li>\"\n",
      "    lem_list += display_book(book)\n",
      "    lem_list += \"</li>\"\n",
      "  end\n",
      "  lem_list += \"</ul>\"\n",
      "    \n",
      "end\n",
      "\n",
      "lem_list = \"\"\n",
      "\n",
      "author = Author.find_by_surname(\"Lem\")\n",
      "lem_list += display_author(author)\n",
      "\n",
      "IRuby.html lem_list"
     ],
     "language": "python",
     "metadata": {},
     "outputs": [
      {
       "html": [
        "<h1>Stanis\u0142aw Lem 12-09-1921 </h1><img src='http://commons.wikimedia.org/wiki/Special:FilePath/Stanislaw_Lem_2.jpg?width=300'/><ul><li><h1> Bajki robot\u00f3w 1964 </h1><img src=''/></li><li><h1> Solaris (powie\u015b\u0107) 1961 </h1><img src='http://commons.wikimedia.org/wiki/Special:FilePath/Solaris,_various_editions_02.jpg?width=300'/></li><li><h1> Bezsenno\u015b\u0107 (zbi\u00f3r opowiada\u0144) 1971 </h1><img src=''/></li><li><h1> G\u0142os Pana 1968 </h1><img src=''/></li><li><h1> Inwazja z Aldebarana (zbi\u00f3r opowiada\u0144) 1959 </h1><img src=''/></li><li><h1> Katar (powie\u015b\u0107) 1976 </h1><img src=''/></li><li><h1> Ksi\u0119ga robot\u00f3w 1961 </h1><img src=''/></li><li><h1> Maska (zbi\u00f3r dzie\u0142) 1976 </h1><img src=''/></li><li><h1> Niezwyci\u0119\u017cony i inne opowiadania 1964 </h1><img src=''/></li><li><h1> Noc ksi\u0119\u017cycowa 1963 </h1><img src=''/></li><li><h1> Pami\u0119tnik znaleziony w wannie 1961 </h1><img src=''/></li><li><h1> Polowanie (zbi\u00f3r opowiada\u0144) 1965 </h1><img src=''/></li><li><h1> Powt\u00f3rka (zbi\u00f3r dzie\u0142) 1979 </h1><img src=''/></li><li><h1> Po\u017cytek ze smoka 1993 </h1><img src=''/></li><li><h1> Rasa drapie\u017cc\u00f3w. Teksty ostatnie 2006 </h1><img src=''/></li><li><h1> Sezam i inne opowiadania 1954 </h1><img src=''/></li><li><h1> Summa technologiae 1964 </h1><img src=''/></li><li><h1> Wizja lokalna (powie\u015b\u0107) 1982 </h1><img src=''/></li></ul>"
       ],
       "metadata": {},
       "output_type": "pyout",
       "prompt_number": 26,
       "text": [
        "\"<h1>Stanis\u0142aw Lem 12-09-1921 </h1><img src='http://commons.wikimedia.org/wiki/Special:FilePath/Stanislaw_Lem_2.jpg?width=300'/><ul><li><h1> Bajki robot\u00f3w 1964 </h1><img src=''/></li><li><h1> Solaris (powie\u015b\u0107) 1961 </h1><img src='http://commons.wikimedia.org/wiki/Special:FilePath/Solaris,_various_editions_02.jpg?width=300'/></li><li><h1> Bezsenno\u015b\u0107 (zbi\u00f3r opowiada\u0144) 1971 </h1><img src=''/></li><li><h1> G\u0142os Pana 1968 </h1><img src=''/></li><li><h1> Inwazja z Aldebarana (zbi\u00f3r opowiada\u0144) 1959 </h1><img src=''/></li><li><h1> Katar (powie\u015b\u0107) 1976 </h1><img src=''/></li><li><h1> Ksi\u0119ga robot\u00f3w 1961 </h1><img src=''/></li><li><h1> Maska (zbi\u00f3r dzie\u0142) 1976 </h1><img src=''/></li><li><h1> Niezwyci\u0119\u017cony i inne opowiadania 1964 </h1><img src=''/></li><li><h1> Noc ksi\u0119\u017cycowa 1963 </h1><img src=''/></li><li><h1> Pami\u0119tnik znaleziony w wannie 1961 </h1><img src=''/></li><li><h1> Polowanie (zbi\u00f3r opowiada\u0144) 1965 </h1><img src=''/></li><li><h1> Powt\u00f3rka (zbi\u00f3r dzie\u0142) 1979 </h1><img src=''/></li><li><h1> Po\u017cytek ze smoka 1993 </h1><img src=''/></li><li><h1> Rasa drapie\u017cc\u00f3w. Teksty ostatnie 2006 </h1><img src=''/></li><li><h1> Sezam i inne opowiadania 1954 </h1><img src=''/></li><li><h1> Summa technologiae 1964 </h1><img src=''/></li><li><h1> Wizja lokalna (powie\u015b\u0107) 1982 </h1><img src=''/></li></ul>\""
       ]
      }
     ],
     "prompt_number": 26
    },
    {
     "cell_type": "heading",
     "level": 3,
     "metadata": {},
     "source": [
      "Zadanie 7"
     ]
    },
    {
     "cell_type": "markdown",
     "metadata": {},
     "source": [
      "W\u015br\u00f3d ksi\u0105\u017cek napisanych przez Lema wy\u015bwietl wszystkie, kt\u00f3re zawieraja w tytule s\u0142owo \"zbi\u00f3r\"."
     ]
    },
    {
     "cell_type": "code",
     "collapsed": false,
     "input": [
      "author = Author.where(surname: \"Lem\").first\n",
      "books = author.books.where(\"title like '%zbi\u00f3r%'\")\n",
      "query = \"\"\n",
      "books.each do |book|\n",
      "  query += display_book(book)\n",
      "end\n",
      "\n",
      "IRuby.html query"
     ],
     "language": "python",
     "metadata": {},
     "outputs": [
      {
       "html": [
        "<h1> Bezsenno\u015b\u0107 (zbi\u00f3r opowiada\u0144) 1971 </h1><img src=''/><h1> Inwazja z Aldebarana (zbi\u00f3r opowiada\u0144) 1959 </h1><img src=''/><h1> Maska (zbi\u00f3r dzie\u0142) 1976 </h1><img src=''/><h1> Polowanie (zbi\u00f3r opowiada\u0144) 1965 </h1><img src=''/><h1> Powt\u00f3rka (zbi\u00f3r dzie\u0142) 1979 </h1><img src=''/>"
       ],
       "metadata": {},
       "output_type": "pyout",
       "prompt_number": 28,
       "text": [
        "\"<h1> Bezsenno\u015b\u0107 (zbi\u00f3r opowiada\u0144) 1971 </h1><img src=''/><h1> Inwazja z Aldebarana (zbi\u00f3r opowiada\u0144) 1959 </h1><img src=''/><h1> Maska (zbi\u00f3r dzie\u0142) 1976 </h1><img src=''/><h1> Polowanie (zbi\u00f3r opowiada\u0144) 1965 </h1><img src=''/><h1> Powt\u00f3rka (zbi\u00f3r dzie\u0142) 1979 </h1><img src=''/>\""
       ]
      }
     ],
     "prompt_number": 28
    },
    {
     "cell_type": "heading",
     "level": 3,
     "metadata": {},
     "source": [
      "Zadanie 8"
     ]
    },
    {
     "cell_type": "markdown",
     "metadata": {},
     "source": [
      "W\u015br\u00f3d ksi\u0105\u017cek napisanych przez Lema wy\u015bwietl te, kt\u00f3re zosta\u0142y wydane w roku jego \u015bmierci."
     ]
    },
    {
     "cell_type": "code",
     "collapsed": false,
     "input": [
      "author = Author.where(surname: \"Lem\").first\n",
      "death = author.died.strftime(\"%Y\")\n",
      "books = author.books.where(published: death)\n",
      "after_death = \"\"\n",
      "books.each do |book|\n",
      "  after_death += display_book(book)\n",
      "end\n",
      "\n",
      "IRuby.html after_death"
     ],
     "language": "python",
     "metadata": {},
     "outputs": [
      {
       "html": [
        "<h1> Rasa drapie\u017cc\u00f3w. Teksty ostatnie 2006 </h1><img src=''/>"
       ],
       "metadata": {},
       "output_type": "pyout",
       "prompt_number": 29,
       "text": [
        "\"<h1> Rasa drapie\u017cc\u00f3w. Teksty ostatnie 2006 </h1><img src=''/>\""
       ]
      }
     ],
     "prompt_number": 29
    },
    {
     "cell_type": "heading",
     "level": 3,
     "metadata": {},
     "source": [
      "Zadanie 9"
     ]
    },
    {
     "cell_type": "markdown",
     "metadata": {},
     "source": [
      "Wy\u015bwietl wszystkie ksi\u0105\u017cki znajduj\u0105ce si\u0119 w bazie. Opis powinien zawiera\u0107 tytu\u0142, imi\u0119 i nazwisko autora, rok wydania oraz \n",
      "obraz przedstawiaj\u0105cy ksi\u0105\u017ck\u0119 (o ile istnieje)."
     ]
    },
    {
     "cell_type": "code",
     "collapsed": false,
     "input": [
      "books = Book.all\n",
      "all_b = \"\"\n",
      "books.each do |book|\n",
      "  all_b += display_book(book)\n",
      "end\n",
      "\n",
      "IRuby.html all_b"
     ],
     "language": "python",
     "metadata": {},
     "outputs": [
      {
       "html": [
        "<h1> V\u00e9gj\u00e1t\u00e9k (reg\u00e9ny)  </h1><img src=''/><h1> Pani Jeziora (powie\u015b\u0107) 1999 </h1><img src=''/><h1> Bellew Zawierucha 1912 </h1><img src=''/><h1> Fa\u0142szywy trop (powie\u015b\u0107) 1995 </h1><img src=''/><h1> Bajki robot\u00f3w 1964 </h1><img src=''/><h1> Boles\u0142aw Chrobry (powie\u015b\u0107) 1947 </h1><img src=''/><h1> De revolutionibus orbium coelestium 1543 </h1><img src=''/><h1> Dzie\u0142o Wielkiego Mi\u0142osierdzia 1922 </h1><img src=''/><h1> Folwark zwierz\u0119cy 1945 </h1><img src='http://commons.wikimedia.org/wiki/Special:FilePath/Animalism_flag.svg?width=300'/><h1> Hamlet  </h1><img src='http://commons.wikimedia.org/wiki/Special:FilePath/Hamlet_quarto_3rd.jpg?width=300'/><h1> Harry Potter 1997 </h1><img src='http://commons.wikimedia.org/wiki/Special:FilePath/Harry_Potter_wordmark.svg?width=300'/><h1> Hobbit, czyli tam i z powrotem 1937 </h1><img src=''/><h1> Hrabia Monte Christo 1844 </h1><img src='http://commons.wikimedia.org/wiki/Special:FilePath/Louis_Fran\u00e7ais-Dant\u00e8s_sur_son_rocher.jpg?width=300'/><h1> Kariera Nikodema Dyzmy 1932 </h1><img src=''/><h1> Krzy\u017cacy (powie\u015b\u0107) 1900 </h1><img src='http://commons.wikimedia.org/wiki/Special:FilePath/PL_Henryk_Sienkiewicz-Krzy\u017cacy_0005.jpeg?width=300'/><h1> Lolita 1955 </h1><img src=''/><h1> Mein Kampf 1925 </h1><img src='http://commons.wikimedia.org/wiki/Special:FilePath/Landsberg.Jail.jpg?width=300'/><h1> Nad Niemnem 1888 </h1><img src='http://commons.wikimedia.org/wiki/Special:FilePath/Nad_Niemnem_-_manuscript.jpg?width=300'/><h1> Niedoko\u0144czone opowie\u015bci 1980 </h1><img src=''/><h1> Nowe Ateny 1745 </h1><img src='http://commons.wikimedia.org/wiki/Special:FilePath/Nowe_ateny1.jpg?width=300'/><h1> Nowy wspania\u0142y \u015bwiat 1932 </h1><img src=''/><h1> Ogniem i mieczem 1884 </h1><img src='http://commons.wikimedia.org/wiki/Special:FilePath/Podbipieta.JPG?width=300'/><h1> Ojciec Goriot 1835 </h1><img src='http://commons.wikimedia.org/wiki/Special:FilePath/Father_Goriot_by_H._Daumier_(1842).JPG?width=300'/><h1> Proces (powie\u015b\u0107) 1925 </h1><img src='http://commons.wikimedia.org/wiki/Special:FilePath/Kafka_Der_Prozess_1925.jpg?width=300'/><h1> Psa\u0142terz Dawid\u00f3w 1579 </h1><img src='http://commons.wikimedia.org/wiki/Special:FilePath/Kochanowski_-_Psa\u0142terz_Dawid\u00f3w_(1579).jpg?width=300'/><h1> Quo vadis 1896 </h1><img src='http://commons.wikimedia.org/wiki/Special:FilePath/Rzym_popiersie_Sienkiewicza_w_kosciele_Domine_Quo_Vadis.JPG?width=300'/><h1> Romeo i Julia 1597 </h1><img src='http://commons.wikimedia.org/wiki/Special:FilePath/Romeo_and_juliet_brown.jpg?width=300'/><h1> Silmarillion 1977 </h1><img src='http://commons.wikimedia.org/wiki/Special:FilePath/Silmarrillion,_Just_under_the_Cover.jpg?width=300'/><h1> Solaris (powie\u015b\u0107) 1961 </h1><img src='http://commons.wikimedia.org/wiki/Special:FilePath/Solaris,_various_editions_02.jpg?width=300'/><h1> W\u0142adca Pier\u015bcieni 1954 </h1><img src='http://commons.wikimedia.org/wiki/Special:FilePath/Unico_Anello.png?width=300'/><h1> Zew Cthulhu (opowiadanie) 1928 </h1><img src=''/><h1> Znaczy Kapitan 1960 </h1><img src=''/><h1> Anna Karenina 1877 </h1><img src='http://commons.wikimedia.org/wiki/Special:FilePath/AnnaKareninaTitle.jpg?width=300'/><h1> Azazel (powie\u015b\u0107) 1998 </h1><img src=''/><h1> Bezsenno\u015b\u0107 (zbi\u00f3r opowiada\u0144) 1971 </h1><img src=''/><h1> Ca\u0142a prawda o planecie Ksi 1983 </h1><img src=''/><h1> Dekorator 1998 </h1><img src=''/><h1> Diamentowa karoca 2003 </h1><img src=''/><h1> Dives in misericordia 1980 </h1><img src='http://commons.wikimedia.org/wiki/Special:FilePath/John_paul_2_coa.svg?width=300'/><h1> Droga na molo w Wigan 1937 </h1><img src=''/><h1> Druga Fundacja 1953 </h1><img src=''/><h1> Dwana\u015bcie krzese\u0142 1928 </h1><img src='http://commons.wikimedia.org/wiki/Special:FilePath/Ostap_Bender_Monument_in_Kharkiv.jpg?width=300'/><h1> Fundacja (powie\u015b\u0107) 1951 </h1><img src=''/><h1> Fundacja i Imperium 1952 </h1><img src=''/><h1> Gambit turecki 1998 </h1><img src=''/><h1> G\u0142os Pana 1968 </h1><img src=''/><h1> Ich czworo 1907 </h1><img src=''/><h1> Inwazja z Aldebarana (zbi\u00f3r opowiada\u0144) 1959 </h1><img src=''/><h1> Kamienna ma\u0142pa 2002 </h1><img src=''/><h1> Katar (powie\u015b\u0107) 1976 </h1><img src=''/><h1> Kochanek \u015amierci 2001 </h1><img src=''/><h1> Kochanka \u015amierci 2001 </h1><img src=''/><h1> Koronacja (powie\u015b\u0107) 1999 </h1><img src=''/><h1> Kot w stanie czystym 1989 </h1><img src=''/><h1> Ko\u0144 i jego ch\u0142opiec 1954 </h1><img src=''/><h1> Ksi\u0119ga robot\u00f3w 1961 </h1><img src=''/><h1> Ksi\u0119gi narodu polskiego i pielgrzymstwa polskiego 1832 </h1><img src='http://commons.wikimedia.org/wiki/Special:FilePath/PL_Ksi\u0119gi_narodu_polskiego_i_pielgrzymstwa_polskiego_008.png?width=300'/><h1> Kuzynki 2003 </h1><img src=''/><h1> Lewa r\u0119ka ciemno\u015bci 1969 </h1><img src=''/><h1> Lewiatan (powie\u015b\u0107) 1998 </h1><img src=''/><h1> Mag (powie\u015b\u0107 J. Deavera) 2003 </h1><img src=''/><h1> Maska (zbi\u00f3r dzie\u0142) 1976 </h1><img src=''/><h1> Niezwyci\u0119\u017cony i inne opowiadania 1964 </h1><img src=''/><h1> Noc ksi\u0119\u017cycowa 1963 </h1><img src=''/><h1> Ojcowie i dzieci 0 </h1><img src='http://commons.wikimedia.org/wiki/Special:FilePath/Otsy1880.jpg?width=300'/><h1> Pami\u0119tnik znaleziony w wannie 1961 </h1><img src=''/><h1> Pie\u015b\u0144 Lodu i Ognia 1996 </h1><img src=''/><h1> Podr\u00f3\u017ce z Herodotem 2004 </h1><img src=''/><h1> Polowanie (zbi\u00f3r opowiada\u0144) 1965 </h1><img src=''/><h1> Powt\u00f3rka (zbi\u00f3r dzie\u0142) 1979 </h1><img src=''/><h1> Po\u017cytek ze smoka 1993 </h1><img src=''/><h1> Preludium Fundacji 1988 </h1><img src=''/><h1> Radca stanu (powie\u015b\u0107) 1998 </h1><img src=''/><h1> Rasa drapie\u017cc\u00f3w. Teksty ostatnie 2006 </h1><img src=''/><h1> Rilla ze Z\u0142otego Brzegu 1921 </h1><img src=''/><h1> Sen nocy letniej 1600 </h1><img src='http://commons.wikimedia.org/wiki/Special:FilePath/MND_title_page.jpg?width=300'/><h1> Sezam i inne opowiadania 1954 </h1><img src=''/><h1> Slavorum apostoli 1985 </h1><img src='http://commons.wikimedia.org/wiki/Special:FilePath/John_paul_2_coa.svg?width=300'/><h1> Summa technologiae 1964 </h1><img src=''/><h1> Tam gdzie spadaj\u0105 anio\u0142y 1998 </h1><img src=''/><h1> Tomek u \u017ar\u00f3de\u0142 Amazonki 1967 </h1><img src=''/><h1> Tomek w Gran Chaco 1987 </h1><img src=''/><h1> Tomek w grobowcach faraon\u00f3w 1994 </h1><img src=''/><h1> Ut unum sint 1995 </h1><img src='http://commons.wikimedia.org/wiki/Special:FilePath/John_paul_2_coa.svg?width=300'/><h1> Veritatis splendor 1993 </h1><img src='http://commons.wikimedia.org/wiki/Special:FilePath/John_paul_2_coa.svg?width=300'/><h1> Walc stulecia 1998 </h1><img src=''/><h1> Walet pikowy (powie\u015b\u0107) 1998 </h1><img src=''/><h1> Wampir Lestat 1985 </h1><img src=''/><h1> Wizja lokalna (powie\u015b\u0107) 1982 </h1><img src=''/><h1> Wojna i pok\u00f3j 1865 </h1><img src='http://commons.wikimedia.org/wiki/Special:FilePath/War-and-peace_1873.gif?width=300'/><h1> \u015amier\u0107 Achillesa 1998 </h1><img src=''/><h1> \u017bycie i przygody Remusa 1938 </h1><img src=''/><h1> Casino Royale (powie\u015b\u0107) 1953 </h1><img src=''/><h1> Cie\u0144 kata 1980 </h1><img src=''/><h1> Czarnoksi\u0119\u017cnik z Archipelagu 1968 </h1><img src=''/><h1> Czarownica z Portobello 2006 </h1><img src=''/><h1> Czas patriot\u00f3w (powie\u015b\u0107) 1987 </h1><img src=''/>"
       ],
       "metadata": {},
       "output_type": "pyout",
       "prompt_number": 30,
       "text": [
        "\"<h1> V\u00e9gj\u00e1t\u00e9k (reg\u00e9ny)  </h1><img src=''/><h1> Pani Jeziora (powie\u015b\u0107) 1999 </h1><img src=''/><h1> Bellew Zawierucha 1912 </h1><img src=''/><h1> Fa\u0142szywy trop (powie\u015b\u0107) 1995 </h1><img src=''/><h1> Bajki robot\u00f3w 1964 </h1><img src=''/><h1> Boles\u0142aw Chrobry (powie\u015b\u0107) 1947 </h1><img src=''/><h1> De revolutionibus orbium coelestium 1543 </h1><img src=''/><h1> Dzie\u0142o Wielkiego Mi\u0142osierdzia 1922 </h1><img src=''/><h1> Folwark zwierz\u0119cy 1945 </h1><img src='http://commons.wikimedia.org/wiki/Special:FilePath/Animalism_flag.svg?width=300'/><h1> Hamlet  </h1><img src='http://commons.wikimedia.org/wiki/Special:FilePath/Hamlet_quarto_3rd.jpg?width=300'/><h1> Harry Potter 1997 </h1><img src='http://commons.wikimedia.org/wiki/Special:FilePath/Harry_Potter_wordmark.svg?width=300'/><h1> Hobbit, czyli tam i z powrotem 1937 </h1><img src=''/><h1> Hrabia Monte Christo 1844 </h1><img src='http://commons.wikimedia.org/wiki/Special:FilePath/Louis_Fran\u00e7ais-Dant\u00e8s_sur_son_rocher.jpg?width=300'/><h1> Kariera Nikodema Dyzmy 1932 </h1><img src=''/><h1> Krzy\u017cacy (powie\u015b\u0107) 1900 </h1><img src='http://commons.wikimedia.org/wiki/Special:FilePath/PL_Henryk_Sienkiewicz-Krzy\u017cacy_0005.jpeg?width=300'/><h1> Lolita 1955 </h1><img src=''/><h1> Mein Kampf 1925 </h1><img src='http://commons.wikimedia.org/wiki/Special:FilePath/Landsberg.Jail.jpg?width=300'/><h1> Nad Niemnem 1888 </h1><img src='http://commons.wikimedia.org/wiki/Special:FilePath/Nad_Niemnem_-_manuscript.jpg?width=300'/><h1> Niedoko\u0144czone opowie\u015bci 1980 </h1><img src=''/><h1> Nowe Ateny 1745 </h1><img src='http://commons.wikimedia.org/wiki/Special:FilePath/Nowe_ateny1.jpg?width=300'/><h1> Nowy wspania\u0142y \u015bwiat 1932 </h1><img src=''/><h1> Ogniem i mieczem 1884 </h1><img src='http://commons.wikimedia.org/wiki/Special:FilePath/Podbipieta.JPG?width=300'/><h1> Ojciec Goriot 1835 </h1><img src='http://commons.wikimedia.org/wiki/Special:FilePath/Father_Goriot_by_H._Daumier_(1842).JPG?width=300'/><h1> Proces (powie\u015b\u0107) 1925 </h1><img src='http://commons.wikimedia.org/wiki/Special:FilePath/Kafka_Der_Prozess_1925.jpg?width=300'/><h1> Psa\u0142terz Dawid\u00f3w 1579 </h1><img src='http://commons.wikimedia.org/wiki/Special:FilePath/Kochanowski_-_Psa\u0142terz_Dawid\u00f3w_(1579).jpg?width=300'/><h1> Quo vadis 1896 </h1><img src='http://commons.wikimedia.org/wiki/Special:FilePath/Rzym_popiersie_Sienkiewicza_w_kosciele_Domine_Quo_Vadis.JPG?width=300'/><h1> Romeo i Julia 1597 </h1><img src='http://commons.wikimedia.org/wiki/Special:FilePath/Romeo_and_juliet_brown.jpg?width=300'/><h1> Silmarillion 1977 </h1><img src='http://commons.wikimedia.org/wiki/Special:FilePath/Silmarrillion,_Just_under_the_Cover.jpg?width=300'/><h1> Solaris (powie\u015b\u0107) 1961 </h1><img src='http://commons.wikimedia.org/wiki/Special:FilePath/Solaris,_various_editions_02.jpg?width=300'/><h1> W\u0142adca Pier\u015bcieni 1954 </h1><img src='http://commons.wikimedia.org/wiki/Special:FilePath/Unico_Anello.png?width=300'/><h1> Zew Cthulhu (opowiadanie) 1928 </h1><img src=''/><h1> Znaczy Kapitan 1960 </h1><img src=''/><h1> Anna Karenina 1877 </h1><img src='http://commons.wikimedia.org/wiki/Special:FilePath/AnnaKareninaTitle.jpg?width=300'/><h1> Azazel (powie\u015b\u0107) 1998 </h1><img src=''/><h1> Bezsenno\u015b\u0107 (zbi\u00f3r opowiada\u0144) 1971 </h1><img src=''/><h1> Ca\u0142a prawda o planecie Ksi 1983 </h1><img src=''/><h1> Dekorator 1998 </h1><img src=''/><h1> Diamentowa karoca 2003 </h1><img src=''/><h1> Dives in misericordia 1980 </h1><img src='http://commons.wikimedia.org/wiki/Special:FilePath/John_paul_2_coa.svg?width=300'/><h1> Droga na molo w Wigan 1937 </h1><img src=''/><h1> Druga Fundacja 1953 </h1><img src=''/><h1> Dwana\u015bcie krzese\u0142 1928 </h1><img src='http://commons.wikimedia.org/wiki/Special:FilePath/Ostap_Bender_Monument_in_Kharkiv.jpg?width=300'/><h1> Fundacja (powie\u015b\u0107) 1951 </h1><img src=''/><h1> Fundacja i Imperium 1952 </h1><img src=''/><h1> Gambit turecki 1998 </h1><img src=''/><h1> G\u0142os Pana 1968 </h1><img src=''/><h1> Ich czworo 1907 </h1><img src=''/><h1> Inwazja z Aldebarana (zbi\u00f3r opowiada\u0144) 1959 </h1><img src=''/><h1> Kamienna ma\u0142pa 2002 </h1><img src=''/><h1> Katar (powie\u015b\u0107) 1976 </h1><img src=''/><h1> Kochanek \u015amierci 2001 </h1><img src=''/><h1> Kochanka \u015amierci 2001 </h1><img src=''/><h1> Koronacja (powie\u015b\u0107) 1999 </h1><img src=''/><h1> Kot w stanie czystym 1989 </h1><img src=''/><h1> Ko\u0144 i jego ch\u0142opiec 1954 </h1><img src=''/><h1> Ksi\u0119ga robot\u00f3w 1961 </h1><img src=''/><h1> Ksi\u0119gi narodu polskiego i pielgrzymstwa polskiego 1832 </h1><img src='http://commons.wikimedia.org/wiki/Special:FilePath/PL_Ksi\u0119gi_narodu_polskiego_i_pielgrzymstwa_polskiego_008.png?width=300'/><h1> Kuzynki 2003 </h1><img src=''/><h1> Lewa r\u0119ka ciemno\u015bci 1969 </h1><img src=''/><h1> Lewiatan (powie\u015b\u0107) 1998 </h1><img src=''/><h1> Mag (powie\u015b\u0107 J. Deavera) 2003 </h1><img src=''/><h1> Maska (zbi\u00f3r dzie\u0142) 1976 </h1><img src=''/><h1> Niezwyci\u0119\u017cony i inne opowiadania 1964 </h1><img src=''/><h1> Noc ksi\u0119\u017cycowa 1963 </h1><img src=''/><h1> Ojcowie i dzieci 0 </h1><img src='http://commons.wikimedia.org/wiki/Special:FilePath/Otsy1880.jpg?width=300'/><h1> Pami\u0119tnik znaleziony w wannie 1961 </h1><img src=''/><h1> Pie\u015b\u0144 Lodu i Ognia 1996 </h1><img src=''/><h1> Podr\u00f3\u017ce z Herodotem 2004 </h1><img src=''/><h1> Polowanie (zbi\u00f3r opowiada\u0144) 1965 </h1><img src=''/><h1> Powt\u00f3rka (zbi\u00f3r dzie\u0142) 1979 </h1><img src=''/><h1> Po\u017cytek ze smoka 1993 </h1><img src=''/><h1> Preludium Fundacji 1988 </h1><img src=''/><h1> Radca stanu (powie\u015b\u0107) 1998 </h1><img src=''/><h1> Rasa drapie\u017cc\u00f3w. Teksty ostatnie 2006 </h1><img src=''/><h1> Rilla ze Z\u0142otego Brzegu 1921 </h1><img src=''/><h1> Sen nocy letniej 1600 </h1><img src='http://commons.wikimedia.org/wiki/Special:FilePath/MND_title_page.jpg?width=300'/><h1> Sezam i inne opowiadania 1954 </h1><img src=''/><h1> Slavorum apostoli 1985 </h1><img src='http://commons.wikimedia.org/wiki/Special:FilePath/John_paul_2_coa.svg?width=300'/><h1> Summa technologiae 1964 </h1><img src=''/><h1> Tam gdzie spadaj\u0105 anio\u0142y 1998 </h1><img src=''/><h1> Tomek u \u017ar\u00f3de\u0142 Amazonki 1967 </h1><img src=''/><h1> Tomek w Gran Chaco 1987 </h1><img src=''/><h1> Tomek w grobowcach faraon\u00f3w 1994 </h1><img src=''/><h1> Ut unum sint 1995 </h1><img src='http://commons.wikimedia.org/wiki/Special:FilePath/John_paul_2_coa.svg?width=300'/><h1> Veritatis splendor 1993 </h1><img src='http://commons.wikimedia.org/wiki/Special:FilePath/John_paul_2_coa.svg?width=300'/><h1> Walc stulecia 1998 </h1><img src=''/><h1> Walet pikowy (powie\u015b\u0107) 1998 </h1><img src=''/><h1> Wampir Lestat 1985 </h1><img src=''/><h1> Wizja lokalna (powie\u015b\u0107) 1982 </h1><img src=''/><h1> Wojna i pok\u00f3j 1865 </h1><img src='http://commons.wikimedia.org/wiki/Special:FilePath/War-and-peace_1873.gif?width=300'/><h1> \u015amier\u0107 Achillesa 1998 </h1><img src=''/><h1> \u017bycie i przygody Remusa 1938 </h1><img src=''/><h1> Casino Royale (powie\u015b\u0107) 1953 </h1><img src=''/><h1> Cie\u0144 kata 1980 </h1><img src=''/><h1> Czarnoksi\u0119\u017cnik z Archipelagu 1968 </h1><img src=''/><h1> Czarownica z Portobello 2006 </h1><img src=''/><h1> Czas patriot\u00f3w (powie\u015b\u0107) 1987 </h1><img src=''/>\""
       ]
      }
     ],
     "prompt_number": 30
    },
    {
     "cell_type": "heading",
     "level": 3,
     "metadata": {},
     "source": [
      "Zadanie 10"
     ]
    },
    {
     "cell_type": "markdown",
     "metadata": {},
     "source": [
      "Wy\u015bwietl wszystkich autor\u00f3w znajduj\u0105cych si\u0119 w bazie wraz z opisem zawieraj\u0105cym ich zdj\u0119cie, dat\u0119 urodzin i \u015bmierci oraz spis \n",
      "opublikowanych ksi\u0105\u017cek. Pami\u0119taj o odpowiednim sformatowaniu dat oraz o tym, \u017ce nie wszyscy autorzy maj\u0105 przypisane wszystkie\n",
      "informacje."
     ]
    },
    {
     "cell_type": "code",
     "collapsed": false,
     "input": [
      "def display_author(author)\n",
      "  everything = \"\"\n",
      "  everything += \"<h1>#{author.name} #{author.surname} </h1>\"\n",
      "  if author.born\n",
      "    everything += \"<h2>#{author.born}</h2>\"\n",
      "  end\n",
      "  if author.died\n",
      "    everything += \"<h2>#{author.died}</h2>\"\n",
      "  end\n",
      "  everything += \"<img src='#{author.image_url}'/>\"\n",
      "  everything += \"<ul>\"\n",
      "  books = author.books\n",
      "  books.each do |book|\n",
      "    everything += \"<li>\"\n",
      "    everything += display_book(book)\n",
      "    everything += \"</li>\"\n",
      "  end\n",
      "everything += \"</ul>\"\n",
      "    \n",
      "end\n",
      "\n",
      "everything = \"\"\n",
      "\n",
      "authors = Author.all\n",
      "authors.each do |author|\n",
      "  everything += display_author(author)\n",
      "end\n",
      "IRuby.html everything"
     ],
     "language": "python",
     "metadata": {},
     "outputs": [
      {
       "html": [
        "<h1>Juliusz S\u0142owacki </h1><h2>1809-09-04</h2><h2>1849-04-03</h2><img src=''/><ul></ul><h1>Henryk Sienkiewicz </h1><h2>1846-05-05</h2><h2>1916-11-15</h2><img src=''/><ul><li><h1> Krzy\u017cacy (powie\u015b\u0107) 1900 </h1><img src='http://commons.wikimedia.org/wiki/Special:FilePath/PL_Henryk_Sienkiewicz-Krzy\u017cacy_0005.jpeg?width=300'/></li><li><h1> Ogniem i mieczem 1884 </h1><img src='http://commons.wikimedia.org/wiki/Special:FilePath/Podbipieta.JPG?width=300'/></li><li><h1> Quo vadis 1896 </h1><img src='http://commons.wikimedia.org/wiki/Special:FilePath/Rzym_popiersie_Sienkiewicza_w_kosciele_Domine_Quo_Vadis.JPG?width=300'/></li></ul><h1>Eliza Orzeszkowa </h1><h2>1841-06-06</h2><h2>1910-05-18</h2><img src=''/><ul><li><h1> Nad Niemnem 1888 </h1><img src='http://commons.wikimedia.org/wiki/Special:FilePath/Nad_Niemnem_-_manuscript.jpg?width=300'/></li></ul><h1>Adam Mickiewicz </h1><h2>1798-12-24</h2><h2>1855-11-26</h2><img src=''/><ul><li><h1> Ksi\u0119gi narodu polskiego i pielgrzymstwa polskiego 1832 </h1><img src='http://commons.wikimedia.org/wiki/Special:FilePath/PL_Ksi\u0119gi_narodu_polskiego_i_pielgrzymstwa_polskiego_008.png?width=300'/></li></ul><h1>Orson Scott Card </h1><h2>1951-08-24</h2><img src='http://commons.wikimedia.org/wiki/Special:FilePath/Orson_Scott_Card_at_BYU_Symposium_20080216_closeup.jpg?width=300'/><ul><li><h1> V\u00e9gj\u00e1t\u00e9k (reg\u00e9ny)  </h1><img src=''/></li></ul><h1>Andrzej Sapkowski </h1><h2>1948-06-21</h2><img src='http://commons.wikimedia.org/wiki/Special:FilePath/Sapkowski.jpg?width=300'/><ul><li><h1> Pani Jeziora (powie\u015b\u0107) 1999 </h1><img src=''/></li></ul><h1>Jack London </h1><h2>1876-01-12</h2><h2>1916-11-22</h2><img src='http://commons.wikimedia.org/wiki/Special:FilePath/JackLondon02.jpeg?width=300'/><ul><li><h1> Bellew Zawierucha 1912 </h1><img src=''/></li></ul><h1>Henning Mankell </h1><h2>1948-02-03</h2><img src='http://commons.wikimedia.org/wiki/Special:FilePath/Henning_Mankell_3_2011_Shankbone.jpg?width=300'/><ul><li><h1> Fa\u0142szywy trop (powie\u015b\u0107) 1995 </h1><img src=''/></li></ul><h1>Stanis\u0142aw Lem </h1><h2>1921-09-12</h2><h2>2006-03-27</h2><img src='http://commons.wikimedia.org/wiki/Special:FilePath/Stanislaw_Lem_2.jpg?width=300'/><ul><li><h1> Bajki robot\u00f3w 1964 </h1><img src=''/></li><li><h1> Solaris (powie\u015b\u0107) 1961 </h1><img src='http://commons.wikimedia.org/wiki/Special:FilePath/Solaris,_various_editions_02.jpg?width=300'/></li><li><h1> Bezsenno\u015b\u0107 (zbi\u00f3r opowiada\u0144) 1971 </h1><img src=''/></li><li><h1> G\u0142os Pana 1968 </h1><img src=''/></li><li><h1> Inwazja z Aldebarana (zbi\u00f3r opowiada\u0144) 1959 </h1><img src=''/></li><li><h1> Katar (powie\u015b\u0107) 1976 </h1><img src=''/></li><li><h1> Ksi\u0119ga robot\u00f3w 1961 </h1><img src=''/></li><li><h1> Maska (zbi\u00f3r dzie\u0142) 1976 </h1><img src=''/></li><li><h1> Niezwyci\u0119\u017cony i inne opowiadania 1964 </h1><img src=''/></li><li><h1> Noc ksi\u0119\u017cycowa 1963 </h1><img src=''/></li><li><h1> Pami\u0119tnik znaleziony w wannie 1961 </h1><img src=''/></li><li><h1> Polowanie (zbi\u00f3r opowiada\u0144) 1965 </h1><img src=''/></li><li><h1> Powt\u00f3rka (zbi\u00f3r dzie\u0142) 1979 </h1><img src=''/></li><li><h1> Po\u017cytek ze smoka 1993 </h1><img src=''/></li><li><h1> Rasa drapie\u017cc\u00f3w. Teksty ostatnie 2006 </h1><img src=''/></li><li><h1> Sezam i inne opowiadania 1954 </h1><img src=''/></li><li><h1> Summa technologiae 1964 </h1><img src=''/></li><li><h1> Wizja lokalna (powie\u015b\u0107) 1982 </h1><img src=''/></li></ul><h1>Antoni Go\u0142ubiew </h1><h2>1907-02-25</h2><h2>1979-06-27</h2><img src='http://commons.wikimedia.org/wiki/Special:FilePath/Antoni_Golubiew.jpg?width=300'/><ul><li><h1> Boles\u0142aw Chrobry (powie\u015b\u0107) 1947 </h1><img src=''/></li></ul><h1>Miko\u0142aj Kopernik </h1><h2>1473-02-19</h2><h2>1543-05-24</h2><img src='http://commons.wikimedia.org/wiki/Special:FilePath/Nikolaus_Kopernikus.jpg?width=300'/><ul><li><h1> De revolutionibus orbium coelestium 1543 </h1><img src=''/></li></ul><h1>Maria Franciszka Koz\u0142owska </h1><h2>1862-05-27</h2><img src='http://commons.wikimedia.org/wiki/Special:FilePath/Mateczk_Koz\u0142owska.JPG?width=300'/><ul><li><h1> Dzie\u0142o Wielkiego Mi\u0142osierdzia 1922 </h1><img src=''/></li></ul><h1>George Orwell </h1><h2>1903-06-25</h2><h2>1950-01-21</h2><img src='http://commons.wikimedia.org/wiki/Special:FilePath/GeoreOrwell.jpg?width=300'/><ul><li><h1> Folwark zwierz\u0119cy 1945 </h1><img src='http://commons.wikimedia.org/wiki/Special:FilePath/Animalism_flag.svg?width=300'/></li><li><h1> Droga na molo w Wigan 1937 </h1><img src=''/></li></ul><h1>William Szekspir </h1><h2>1564-04-23</h2><h2>1616-05-03</h2><img src='http://commons.wikimedia.org/wiki/Special:FilePath/Shakespeare.jpg?width=300'/><ul><li><h1> Hamlet  </h1><img src='http://commons.wikimedia.org/wiki/Special:FilePath/Hamlet_quarto_3rd.jpg?width=300'/></li><li><h1> Romeo i Julia 1597 </h1><img src='http://commons.wikimedia.org/wiki/Special:FilePath/Romeo_and_juliet_brown.jpg?width=300'/></li><li><h1> Sen nocy letniej 1600 </h1><img src='http://commons.wikimedia.org/wiki/Special:FilePath/MND_title_page.jpg?width=300'/></li></ul><h1>J. K. Rowling </h1><h2>1965-07-31</h2><img src='http://commons.wikimedia.org/wiki/Special:FilePath/J._K._Rowling_2010.jpg?width=300'/><ul><li><h1> Harry Potter 1997 </h1><img src='http://commons.wikimedia.org/wiki/Special:FilePath/Harry_Potter_wordmark.svg?width=300'/></li></ul><h1>John Ronald Reuel Tolkien </h1><h2>1892-01-03</h2><h2>1973-09-02</h2><img src='http://commons.wikimedia.org/wiki/Special:FilePath/Tolkien_1916.jpg?width=300'/><ul><li><h1> Hobbit, czyli tam i z powrotem 1937 </h1><img src=''/></li><li><h1> Silmarillion 1977 </h1><img src='http://commons.wikimedia.org/wiki/Special:FilePath/Silmarrillion,_Just_under_the_Cover.jpg?width=300'/></li><li><h1> W\u0142adca Pier\u015bcieni 1954 </h1><img src='http://commons.wikimedia.org/wiki/Special:FilePath/Unico_Anello.png?width=300'/></li></ul><h1>Aleksander Dumas (ojciec) </h1><h2>1802-07-24</h2><h2>1870-12-05</h2><img src='http://commons.wikimedia.org/wiki/Special:FilePath/Dumas_by_Nadar,_1855.jpg?width=300'/><ul><li><h1> Hrabia Monte Christo 1844 </h1><img src='http://commons.wikimedia.org/wiki/Special:FilePath/Louis_Fran\u00e7ais-Dant\u00e8s_sur_son_rocher.jpg?width=300'/></li></ul><h1>Tadeusz Do\u0142\u0119ga-Mostowicz </h1><h2>1898-08-10</h2><h2>1939-09-20</h2><img src='http://commons.wikimedia.org/wiki/Special:FilePath/Tadeusz_Dolega-Mostowicz.jpg?width=300'/><ul><li><h1> Kariera Nikodema Dyzmy 1932 </h1><img src=''/></li></ul><h1>Vladimir Nabokov </h1><h2>1899-04-22</h2><h2>1977-07-02</h2><img src='http://commons.wikimedia.org/wiki/Special:FilePath/Monument_Nabokov_Montreux_23.12.2006.jpg?width=300'/><ul><li><h1> Lolita 1955 </h1><img src=''/></li></ul><h1>Adolf Hitler </h1><h2>1889-04-20</h2><h2>1945-04-30</h2><img src='http://commons.wikimedia.org/wiki/Special:FilePath/Hitler_portrait_crop.jpg?width=300'/><ul><li><h1> Mein Kampf 1925 </h1><img src='http://commons.wikimedia.org/wiki/Special:FilePath/Landsberg.Jail.jpg?width=300'/></li></ul><h1>Christopher Tolkien </h1><h2>1924-11-21</h2><img src=''/><ul><li><h1> Niedoko\u0144czone opowie\u015bci 1980 </h1><img src=''/></li></ul><h1>Benedykt Chmielowski </h1><h2>1700-03-20</h2><h2>1763-04-07</h2><img src='http://commons.wikimedia.org/wiki/Special:FilePath/POL_COA_Na\u0142\u0119cz.svg?width=300'/><ul><li><h1> Nowe Ateny 1745 </h1><img src='http://commons.wikimedia.org/wiki/Special:FilePath/Nowe_ateny1.jpg?width=300'/></li></ul><h1>Aldous Huxley </h1><h2>1894-07-26</h2><h2>1963-11-22</h2><img src='http://commons.wikimedia.org/wiki/Special:FilePath/Aldous_Huxley.JPG?width=300'/><ul><li><h1> Nowy wspania\u0142y \u015bwiat 1932 </h1><img src=''/></li></ul><h1>Honor\u00e9 de Balzac </h1><h2>1799-05-20</h2><h2>1850-08-18</h2><img src='http://commons.wikimedia.org/wiki/Special:FilePath/HBalzac.jpg?width=300'/><ul><li><h1> Ojciec Goriot 1835 </h1><img src='http://commons.wikimedia.org/wiki/Special:FilePath/Father_Goriot_by_H._Daumier_(1842).JPG?width=300'/></li></ul><h1>Franz Kafka </h1><h2>1883-07-03</h2><h2>1924-06-03</h2><img src='http://commons.wikimedia.org/wiki/Special:FilePath/Kafka1906.jpg?width=300'/><ul><li><h1> Proces (powie\u015b\u0107) 1925 </h1><img src='http://commons.wikimedia.org/wiki/Special:FilePath/Kafka_Der_Prozess_1925.jpg?width=300'/></li></ul><h1>Jan Kochanowski </h1><h2>1584-08-22</h2><img src='http://commons.wikimedia.org/wiki/Special:FilePath/Jan_Kochanowski.png?width=300'/><ul><li><h1> Psa\u0142terz Dawid\u00f3w 1579 </h1><img src='http://commons.wikimedia.org/wiki/Special:FilePath/Kochanowski_-_Psa\u0142terz_Dawid\u00f3w_(1579).jpg?width=300'/></li></ul><h1>Howard Phillips Lovecraft </h1><h2>1890-08-20</h2><h2>1937-03-15</h2><img src='http://commons.wikimedia.org/wiki/Special:FilePath/Howard_Phillips_Lovecraft_in_1915.jpg?width=300'/><ul><li><h1> Zew Cthulhu (opowiadanie) 1928 </h1><img src=''/></li></ul><h1>Karol Olgierd Borchardt </h1><h2>1905-03-25</h2><h2>1986-05-20</h2><img src='http://commons.wikimedia.org/wiki/Special:FilePath/Karol_Olgierd_Borchardt's_house_in_Gdynia.jpg?width=300'/><ul><li><h1> Znaczy Kapitan 1960 </h1><img src=''/></li></ul><h1>Lew To\u0142stoj </h1><h2>1828-09-09</h2><h2>1910-11-20</h2><img src='http://commons.wikimedia.org/wiki/Special:FilePath/Ilya_Efimovich_Repin_(1844-1930)_-_Portrait_of_Leo_Tolstoy_(1887).jpg?width=300'/><ul><li><h1> Anna Karenina 1877 </h1><img src='http://commons.wikimedia.org/wiki/Special:FilePath/AnnaKareninaTitle.jpg?width=300'/></li><li><h1> Wojna i pok\u00f3j 1865 </h1><img src='http://commons.wikimedia.org/wiki/Special:FilePath/War-and-peace_1873.gif?width=300'/></li></ul><h1>Boris Akunin </h1><h2>1956-05-20</h2><img src='http://commons.wikimedia.org/wiki/Special:FilePath/Boris_Akunin_2012.jpg?width=300'/><ul><li><h1> Azazel (powie\u015b\u0107) 1998 </h1><img src=''/></li><li><h1> Dekorator 1998 </h1><img src=''/></li><li><h1> Diamentowa karoca 2003 </h1><img src=''/></li><li><h1> Gambit turecki 1998 </h1><img src=''/></li><li><h1> Kochanek \u015amierci 2001 </h1><img src=''/></li><li><h1> Kochanka \u015amierci 2001 </h1><img src=''/></li><li><h1> Koronacja (powie\u015b\u0107) 1999 </h1><img src=''/></li><li><h1> Lewiatan (powie\u015b\u0107) 1998 </h1><img src=''/></li><li><h1> Radca stanu (powie\u015b\u0107) 1998 </h1><img src=''/></li><li><h1> Walet pikowy (powie\u015b\u0107) 1998 </h1><img src=''/></li><li><h1> \u015amier\u0107 Achillesa 1998 </h1><img src=''/></li></ul><h1>Janusz Zajdel </h1><h2>1938-08-15</h2><h2>1985-07-19</h2><img src='http://commons.wikimedia.org/wiki/Special:FilePath/Janusz_A_Zajdel.jpg?width=300'/><ul><li><h1> Ca\u0142a prawda o planecie Ksi 1983 </h1><img src=''/></li></ul><h1>Jan Pawe\u0142 II </h1><h2>1920-05-18</h2><h2>2005-04-02</h2><img src='http://commons.wikimedia.org/wiki/Special:FilePath/John_Paul_II_Medal_of_Freedom_2004.jpg?width=300'/><ul><li><h1> Dives in misericordia 1980 </h1><img src='http://commons.wikimedia.org/wiki/Special:FilePath/John_paul_2_coa.svg?width=300'/></li><li><h1> Slavorum apostoli 1985 </h1><img src='http://commons.wikimedia.org/wiki/Special:FilePath/John_paul_2_coa.svg?width=300'/></li><li><h1> Ut unum sint 1995 </h1><img src='http://commons.wikimedia.org/wiki/Special:FilePath/John_paul_2_coa.svg?width=300'/></li><li><h1> Veritatis splendor 1993 </h1><img src='http://commons.wikimedia.org/wiki/Special:FilePath/John_paul_2_coa.svg?width=300'/></li></ul><h1>Isaac Asimov </h1><h2>1919-10-04</h2><h2>1992-04-06</h2><img src='http://commons.wikimedia.org/wiki/Special:FilePath/Isaac.Asimov01.jpg?width=300'/><ul><li><h1> Druga Fundacja 1953 </h1><img src=''/></li><li><h1> Fundacja (powie\u015b\u0107) 1951 </h1><img src=''/></li><li><h1> Fundacja i Imperium 1952 </h1><img src=''/></li><li><h1> Preludium Fundacji 1988 </h1><img src=''/></li></ul><h1>Ilja Ilf </h1><h2>1897-10-15</h2><h2>1937-04-13</h2><img src='http://commons.wikimedia.org/wiki/Special:FilePath/Ilya_Ilf.jpg?width=300'/><ul><li><h1> Dwana\u015bcie krzese\u0142 1928 </h1><img src='http://commons.wikimedia.org/wiki/Special:FilePath/Ostap_Bender_Monument_in_Kharkiv.jpg?width=300'/></li></ul><h1>Jewgienij Pietrow (pisarz) </h1><h2>1903-12-13</h2><h2>1942-07-02</h2><img src='http://commons.wikimedia.org/wiki/Special:FilePath/Yevgeny_Petrov.jpg?width=300'/><ul></ul><h1>Gabriela Zapolska </h1><h2>1857-03-30</h2><h2>1921-12-17</h2><img src='http://commons.wikimedia.org/wiki/Special:FilePath/Gabriela_Zapolska.PNG?width=300'/><ul><li><h1> Ich czworo 1907 </h1><img src=''/></li></ul><h1>Jeffery Deaver </h1><h2>1950-05-06</h2><img src='http://commons.wikimedia.org/wiki/Special:FilePath/Jeffery_Deaver_October_2006.jpg?width=300'/><ul><li><h1> Kamienna ma\u0142pa 2002 </h1><img src=''/></li><li><h1> Mag (powie\u015b\u0107 J. Deavera) 2003 </h1><img src=''/></li></ul><h1>Terry Pratchett </h1><h2>1948-04-28</h2><img src='http://commons.wikimedia.org/wiki/Special:FilePath/Terry_Pratchett,_September_2009_1.jpg?width=300'/><ul><li><h1> Kot w stanie czystym 1989 </h1><img src=''/></li></ul><h1>Clive Staples Lewis </h1><h2>1898-11-29</h2><h2>1963-11-22</h2><img src='http://commons.wikimedia.org/wiki/Special:FilePath/Statue_of_C.S._Lewis,_Belfast.jpg?width=300'/><ul><li><h1> Ko\u0144 i jego ch\u0142opiec 1954 </h1><img src=''/></li></ul><h1>Andrzej Pilipiuk </h1><h2>1974-03-20</h2><img src='http://commons.wikimedia.org/wiki/Special:FilePath/Andrzej_Pilipiuk-Polcon2006.jpg?width=300'/><ul><li><h1> Kuzynki 2003 </h1><img src=''/></li></ul><h1>Ursula K. Le Guin </h1><h2>1929-10-21</h2><img src='http://commons.wikimedia.org/wiki/Special:FilePath/UrsulaLeGuin.01.jpg?width=300'/><ul><li><h1> Lewa r\u0119ka ciemno\u015bci 1969 </h1><img src=''/></li><li><h1> Czarnoksi\u0119\u017cnik z Archipelagu 1968 </h1><img src=''/></li></ul><h1>Iwan Turgieniew </h1><h2>1818-11-09</h2><h2>1883-09-03</h2><img src='http://commons.wikimedia.org/wiki/Special:FilePath/Turgenev_by_Repin.jpg?width=300'/><ul><li><h1> Ojcowie i dzieci 0 </h1><img src='http://commons.wikimedia.org/wiki/Special:FilePath/Otsy1880.jpg?width=300'/></li></ul><h1>George R. R. Martin </h1><h2>1948-09-20</h2><img src='http://commons.wikimedia.org/wiki/Special:FilePath/George_R_R_Martin_2011_Shankbone.JPG?width=300'/><ul><li><h1> Pie\u015b\u0144 Lodu i Ognia 1996 </h1><img src=''/></li></ul><h1>Ryszard Kapu\u015bci\u0144ski </h1><h2>1932-03-04</h2><h2>2007-01-23</h2><img src='http://commons.wikimedia.org/wiki/Special:FilePath/Ryszard_Kapuscinski_by_Kubik_17.05.1997_-_cropped.jpg?width=300'/><ul><li><h1> Podr\u00f3\u017ce z Herodotem 2004 </h1><img src=''/></li></ul><h1>Lucy Maud Montgomery </h1><h2>1874-11-30</h2><h2>1942-04-24</h2><img src='http://commons.wikimedia.org/wiki/Special:FilePath/Lucy_Maud_Montgomery.JPG?width=300'/><ul><li><h1> Rilla ze Z\u0142otego Brzegu 1921 </h1><img src=''/></li></ul><h1>Dorota Terakowska </h1><h2>1938-08-30</h2><h2>2004-01-04</h2><img src='http://commons.wikimedia.org/wiki/Special:FilePath/Dorota_Terakowska_grob.jpg?width=300'/><ul><li><h1> Tam gdzie spadaj\u0105 anio\u0142y 1998 </h1><img src=''/></li></ul><h1>Alfred Szklarski </h1><h2>1912-01-21</h2><h2>1992-04-09</h2><img src='http://commons.wikimedia.org/wiki/Special:FilePath/Katowice_-_pomnik_Alfred_Szklarski.JPG?width=300'/><ul><li><h1> Tomek u \u017ar\u00f3de\u0142 Amazonki 1967 </h1><img src=''/></li><li><h1> Tomek w Gran Chaco 1987 </h1><img src=''/></li><li><h1> Tomek w grobowcach faraon\u00f3w 1994 </h1><img src=''/></li></ul><h1>Adam Zelga </h1><h2>1953-03-11</h2><img src=''/><ul></ul><h1>Rafa\u0142 A. Ziemkiewicz </h1><h2>1964-09-13</h2><img src='http://commons.wikimedia.org/wiki/Special:FilePath/Rafa\u0142_Ziemkiewicz.jpg?width=300'/><ul><li><h1> Walc stulecia 1998 </h1><img src=''/></li></ul><h1>Anne Rice </h1><h2>1941-10-04</h2><img src='http://commons.wikimedia.org/wiki/Special:FilePath/Anne_Rice.jpg?width=300'/><ul><li><h1> Wampir Lestat 1985 </h1><img src=''/></li></ul><h1>Aleksander Majkowski </h1><h2>1876-07-17</h2><h2>1938-02-10</h2><img src='http://commons.wikimedia.org/wiki/Special:FilePath/POL_Polonia_Restituta_Oficerski_BAR.svg?width=300'/><ul><li><h1> \u017bycie i przygody Remusa 1938 </h1><img src=''/></li></ul><h1>Ian Fleming </h1><h2>1908-05-28</h2><h2>1964-08-12</h2><img src='http://commons.wikimedia.org/wiki/Special:FilePath/For_Your_Eyes_Only.jpg?width=300'/><ul><li><h1> Casino Royale (powie\u015b\u0107) 1953 </h1><img src=''/></li></ul><h1>Gene Wolfe </h1><h2>1931-05-07</h2><img src='http://commons.wikimedia.org/wiki/Special:FilePath/Gene_Wolfe,_2005.png?width=300'/><ul><li><h1> Cie\u0144 kata 1980 </h1><img src=''/></li></ul><h1>Paulo Coelho </h1><h2>1947-08-24</h2><img src='http://commons.wikimedia.org/wiki/Special:FilePath/Paulo_Coelho_nrkbeta.jpg?width=300'/><ul><li><h1> Czarownica z Portobello 2006 </h1><img src=''/></li></ul><h1>Tom Clancy </h1><h2>1947-04-12</h2><h2>2013-10-01</h2><img src='http://commons.wikimedia.org/wiki/Special:FilePath/Tom_Clancy_at_Burns_Library_cropped.jpg?width=300'/><ul><li><h1> Czas patriot\u00f3w (powie\u015b\u0107) 1987 </h1><img src=''/></li></ul>"
       ],
       "metadata": {},
       "output_type": "pyout",
       "prompt_number": 31,
       "text": [
        "\"<h1>Juliusz S\u0142owacki </h1><h2>1809-09-04</h2><h2>1849-04-03</h2><img src=''/><ul></ul><h1>Henryk Sienkiewicz </h1><h2>1846-05-05</h2><h2>1916-11-15</h2><img src=''/><ul><li><h1> Krzy\u017cacy (powie\u015b\u0107) 1900 </h1><img src='http://commons.wikimedia.org/wiki/Special:FilePath/PL_Henryk_Sienkiewicz-Krzy\u017cacy_0005.jpeg?width=300'/></li><li><h1> Ogniem i mieczem 1884 </h1><img src='http://commons.wikimedia.org/wiki/Special:FilePath/Podbipieta.JPG?width=300'/></li><li><h1> Quo vadis 1896 </h1><img src='http://commons.wikimedia.org/wiki/Special:FilePath/Rzym_popiersie_Sienkiewicza_w_kosciele_Domine_Quo_Vadis.JPG?width=300'/></li></ul><h1>Eliza Orzeszkowa </h1><h2>1841-06-06</h2><h2>1910-05-18</h2><img src=''/><ul><li><h1> Nad Niemnem 1888 </h1><img src='http://commons.wikimedia.org/wiki/Special:FilePath/Nad_Niemnem_-_manuscript.jpg?width=300'/></li></ul><h1>Adam Mickiewicz </h1><h2>1798-12-24</h2><h2>1855-11-26</h2><img src=''/><ul><li><h1> Ksi\u0119gi narodu polskiego i pielgrzymstwa polskiego 1832 </h1><img src='http://commons.wikimedia.org/wiki/Special:FilePath/PL_Ksi\u0119gi_narodu_polskiego_i_pielgrzymstwa_polskiego_008.png?width=300'/></li></ul><h1>Orson Scott Card </h1><h2>1951-08-24</h2><img src='http://commons.wikimedia.org/wiki/Special:FilePath/Orson_Scott_Card_at_BYU_Symposium_20080216_closeup.jpg?width=300'/><ul><li><h1> V\u00e9gj\u00e1t\u00e9k (reg\u00e9ny)  </h1><img src=''/></li></ul><h1>Andrzej Sapkowski </h1><h2>1948-06-21</h2><img src='http://commons.wikimedia.org/wiki/Special:FilePath/Sapkowski.jpg?width=300'/><ul><li><h1> Pani Jeziora (powie\u015b\u0107) 1999 </h1><img src=''/></li></ul><h1>Jack London </h1><h2>1876-01-12</h2><h2>1916-11-22</h2><img src='http://commons.wikimedia.org/wiki/Special:FilePath/JackLondon02.jpeg?width=300'/><ul><li><h1> Bellew Zawierucha 1912 </h1><img src=''/></li></ul><h1>Henning Mankell </h1><h2>1948-02-03</h2><img src='http://commons.wikimedia.org/wiki/Special:FilePath/Henning_Mankell_3_2011_Shankbone.jpg?width=300'/><ul><li><h1> Fa\u0142szywy trop (powie\u015b\u0107) 1995 </h1><img src=''/></li></ul><h1>Stanis\u0142aw Lem </h1><h2>1921-09-12</h2><h2>2006-03-27</h2><img src='http://commons.wikimedia.org/wiki/Special:FilePath/Stanislaw_Lem_2.jpg?width=300'/><ul><li><h1> Bajki robot\u00f3w 1964 </h1><img src=''/></li><li><h1> Solaris (powie\u015b\u0107) 1961 </h1><img src='http://commons.wikimedia.org/wiki/Special:FilePath/Solaris,_various_editions_02.jpg?width=300'/></li><li><h1> Bezsenno\u015b\u0107 (zbi\u00f3r opowiada\u0144) 1971 </h1><img src=''/></li><li><h1> G\u0142os Pana 1968 </h1><img src=''/></li><li><h1> Inwazja z Aldebarana (zbi\u00f3r opowiada\u0144) 1959 </h1><img src=''/></li><li><h1> Katar (powie\u015b\u0107) 1976 </h1><img src=''/></li><li><h1> Ksi\u0119ga robot\u00f3w 1961 </h1><img src=''/></li><li><h1> Maska (zbi\u00f3r dzie\u0142) 1976 </h1><img src=''/></li><li><h1> Niezwyci\u0119\u017cony i inne opowiadania 1964 </h1><img src=''/></li><li><h1> Noc ksi\u0119\u017cycowa 1963 </h1><img src=''/></li><li><h1> Pami\u0119tnik znaleziony w wannie 1961 </h1><img src=''/></li><li><h1> Polowanie (zbi\u00f3r opowiada\u0144) 1965 </h1><img src=''/></li><li><h1> Powt\u00f3rka (zbi\u00f3r dzie\u0142) 1979 </h1><img src=''/></li><li><h1> Po\u017cytek ze smoka 1993 </h1><img src=''/></li><li><h1> Rasa drapie\u017cc\u00f3w. Teksty ostatnie 2006 </h1><img src=''/></li><li><h1> Sezam i inne opowiadania 1954 </h1><img src=''/></li><li><h1> Summa technologiae 1964 </h1><img src=''/></li><li><h1> Wizja lokalna (powie\u015b\u0107) 1982 </h1><img src=''/></li></ul><h1>Antoni Go\u0142ubiew </h1><h2>1907-02-25</h2><h2>1979-06-27</h2><img src='http://commons.wikimedia.org/wiki/Special:FilePath/Antoni_Golubiew.jpg?width=300'/><ul><li><h1> Boles\u0142aw Chrobry (powie\u015b\u0107) 1947 </h1><img src=''/></li></ul><h1>Miko\u0142aj Kopernik </h1><h2>1473-02-19</h2><h2>1543-05-24</h2><img src='http://commons.wikimedia.org/wiki/Special:FilePath/Nikolaus_Kopernikus.jpg?width=300'/><ul><li><h1> De revolutionibus orbium coelestium 1543 </h1><img src=''/></li></ul><h1>Maria Franciszka Koz\u0142owska </h1><h2>1862-05-27</h2><img src='http://commons.wikimedia.org/wiki/Special:FilePath/Mateczk_Koz\u0142owska.JPG?width=300'/><ul><li><h1> Dzie\u0142o Wielkiego Mi\u0142osierdzia 1922 </h1><img src=''/></li></ul><h1>George Orwell </h1><h2>1903-06-25</h2><h2>1950-01-21</h2><img src='http://commons.wikimedia.org/wiki/Special:FilePath/GeoreOrwell.jpg?width=300'/><ul><li><h1> Folwark zwierz\u0119cy 1945 </h1><img src='http://commons.wikimedia.org/wiki/Special:FilePath/Animalism_flag.svg?width=300'/></li><li><h1> Droga na molo w Wigan 1937 </h1><img src=''/></li></ul><h1>William Szekspir </h1><h2>1564-04-23</h2><h2>1616-05-03</h2><img src='http://commons.wikimedia.org/wiki/Special:FilePath/Shakespeare.jpg?width=300'/><ul><li><h1> Hamlet  </h1><img src='http://commons.wikimedia.org/wiki/Special:FilePath/Hamlet_quarto_3rd.jpg?width=300'/></li><li><h1> Romeo i Julia 1597 </h1><img src='http://commons.wikimedia.org/wiki/Special:FilePath/Romeo_and_juliet_brown.jpg?width=300'/></li><li><h1> Sen nocy letniej 1600 </h1><img src='http://commons.wikimedia.org/wiki/Special:FilePath/MND_title_page.jpg?width=300'/></li></ul><h1>J. K. Rowling </h1><h2>1965-07-31</h2><img src='http://commons.wikimedia.org/wiki/Special:FilePath/J._K._Rowling_2010.jpg?width=300'/><ul><li><h1> Harry Potter 1997 </h1><img src='http://commons.wikimedia.org/wiki/Special:FilePath/Harry_Potter_wordmark.svg?width=300'/></li></ul><h1>John Ronald Reuel Tolkien </h1><h2>1892-01-03</h2><h2>1973-09-02</h2><img src='http://commons.wikimedia.org/wiki/Special:FilePath/Tolkien_1916.jpg?width=300'/><ul><li><h1> Hobbit, czyli tam i z powrotem 1937 </h1><img src=''/></li><li><h1> Silmarillion 1977 </h1><img src='http://commons.wikimedia.org/wiki/Special:FilePath/Silmarrillion,_Just_under_the_Cover.jpg?width=300'/></li><li><h1> W\u0142adca Pier\u015bcieni 1954 </h1><img src='http://commons.wikimedia.org/wiki/Special:FilePath/Unico_Anello.png?width=300'/></li></ul><h1>Aleksander Dumas (ojciec) </h1><h2>1802-07-24</h2><h2>1870-12-05</h2><img src='http://commons.wikimedia.org/wiki/Special:FilePath/Dumas_by_Nadar,_1855.jpg?width=300'/><ul><li><h1> Hrabia Monte Christo 1844 </h1><img src='http://commons.wikimedia.org/wiki/Special:FilePath/Louis_Fran\u00e7ais-Dant\u00e8s_sur_son_rocher.jpg?width=300'/></li></ul><h1>Tadeusz Do\u0142\u0119ga-Mostowicz </h1><h2>1898-08-10</h2><h2>1939-09-20</h2><img src='http://commons.wikimedia.org/wiki/Special:FilePath/Tadeusz_Dolega-Mostowicz.jpg?width=300'/><ul><li><h1> Kariera Nikodema Dyzmy 1932 </h1><img src=''/></li></ul><h1>Vladimir Nabokov </h1><h2>1899-04-22</h2><h2>1977-07-02</h2><img src='http://commons.wikimedia.org/wiki/Special:FilePath/Monument_Nabokov_Montreux_23.12.2006.jpg?width=300'/><ul><li><h1> Lolita 1955 </h1><img src=''/></li></ul><h1>Adolf Hitler </h1><h2>1889-04-20</h2><h2>1945-04-30</h2><img src='http://commons.wikimedia.org/wiki/Special:FilePath/Hitler_portrait_crop.jpg?width=300'/><ul><li><h1> Mein Kampf 1925 </h1><img src='http://commons.wikimedia.org/wiki/Special:FilePath/Landsberg.Jail.jpg?width=300'/></li></ul><h1>Christopher Tolkien </h1><h2>1924-11-21</h2><img src=''/><ul><li><h1> Niedoko\u0144czone opowie\u015bci 1980 </h1><img src=''/></li></ul><h1>Benedykt Chmielowski </h1><h2>1700-03-20</h2><h2>1763-04-07</h2><img src='http://commons.wikimedia.org/wiki/Special:FilePath/POL_COA_Na\u0142\u0119cz.svg?width=300'/><ul><li><h1> Nowe Ateny 1745 </h1><img src='http://commons.wikimedia.org/wiki/Special:FilePath/Nowe_ateny1.jpg?width=300'/></li></ul><h1>Aldous Huxley </h1><h2>1894-07-26</h2><h2>1963-11-22</h2><img src='http://commons.wikimedia.org/wiki/Special:FilePath/Aldous_Huxley.JPG?width=300'/><ul><li><h1> Nowy wspania\u0142y \u015bwiat 1932 </h1><img src=''/></li></ul><h1>Honor\u00e9 de Balzac </h1><h2>1799-05-20</h2><h2>1850-08-18</h2><img src='http://commons.wikimedia.org/wiki/Special:FilePath/HBalzac.jpg?width=300'/><ul><li><h1> Ojciec Goriot 1835 </h1><img src='http://commons.wikimedia.org/wiki/Special:FilePath/Father_Goriot_by_H._Daumier_(1842).JPG?width=300'/></li></ul><h1>Franz Kafka </h1><h2>1883-07-03</h2><h2>1924-06-03</h2><img src='http://commons.wikimedia.org/wiki/Special:FilePath/Kafka1906.jpg?width=300'/><ul><li><h1> Proces (powie\u015b\u0107) 1925 </h1><img src='http://commons.wikimedia.org/wiki/Special:FilePath/Kafka_Der_Prozess_1925.jpg?width=300'/></li></ul><h1>Jan Kochanowski </h1><h2>1584-08-22</h2><img src='http://commons.wikimedia.org/wiki/Special:FilePath/Jan_Kochanowski.png?width=300'/><ul><li><h1> Psa\u0142terz Dawid\u00f3w 1579 </h1><img src='http://commons.wikimedia.org/wiki/Special:FilePath/Kochanowski_-_Psa\u0142terz_Dawid\u00f3w_(1579).jpg?width=300'/></li></ul><h1>Howard Phillips Lovecraft </h1><h2>1890-08-20</h2><h2>1937-03-15</h2><img src='http://commons.wikimedia.org/wiki/Special:FilePath/Howard_Phillips_Lovecraft_in_1915.jpg?width=300'/><ul><li><h1> Zew Cthulhu (opowiadanie) 1928 </h1><img src=''/></li></ul><h1>Karol Olgierd Borchardt </h1><h2>1905-03-25</h2><h2>1986-05-20</h2><img src='http://commons.wikimedia.org/wiki/Special:FilePath/Karol_Olgierd_Borchardt's_house_in_Gdynia.jpg?width=300'/><ul><li><h1> Znaczy Kapitan 1960 </h1><img src=''/></li></ul><h1>Lew To\u0142stoj </h1><h2>1828-09-09</h2><h2>1910-11-20</h2><img src='http://commons.wikimedia.org/wiki/Special:FilePath/Ilya_Efimovich_Repin_(1844-1930)_-_Portrait_of_Leo_Tolstoy_(1887).jpg?width=300'/><ul><li><h1> Anna Karenina 1877 </h1><img src='http://commons.wikimedia.org/wiki/Special:FilePath/AnnaKareninaTitle.jpg?width=300'/></li><li><h1> Wojna i pok\u00f3j 1865 </h1><img src='http://commons.wikimedia.org/wiki/Special:FilePath/War-and-peace_1873.gif?width=300'/></li></ul><h1>Boris Akunin </h1><h2>1956-05-20</h2><img src='http://commons.wikimedia.org/wiki/Special:FilePath/Boris_Akunin_2012.jpg?width=300'/><ul><li><h1> Azazel (powie\u015b\u0107) 1998 </h1><img src=''/></li><li><h1> Dekorator 1998 </h1><img src=''/></li><li><h1> Diamentowa karoca 2003 </h1><img src=''/></li><li><h1> Gambit turecki 1998 </h1><img src=''/></li><li><h1> Kochanek \u015amierci 2001 </h1><img src=''/></li><li><h1> Kochanka \u015amierci 2001 </h1><img src=''/></li><li><h1> Koronacja (powie\u015b\u0107) 1999 </h1><img src=''/></li><li><h1> Lewiatan (powie\u015b\u0107) 1998 </h1><img src=''/></li><li><h1> Radca stanu (powie\u015b\u0107) 1998 </h1><img src=''/></li><li><h1> Walet pikowy (powie\u015b\u0107) 1998 </h1><img src=''/></li><li><h1> \u015amier\u0107 Achillesa 1998 </h1><img src=''/></li></ul><h1>Janusz Zajdel </h1><h2>1938-08-15</h2><h2>1985-07-19</h2><img src='http://commons.wikimedia.org/wiki/Special:FilePath/Janusz_A_Zajdel.jpg?width=300'/><ul><li><h1> Ca\u0142a prawda o planecie Ksi 1983 </h1><img src=''/></li></ul><h1>Jan Pawe\u0142 II </h1><h2>1920-05-18</h2><h2>2005-04-02</h2><img src='http://commons.wikimedia.org/wiki/Special:FilePath/John_Paul_II_Medal_of_Freedom_2004.jpg?width=300'/><ul><li><h1> Dives in misericordia 1980 </h1><img src='http://commons.wikimedia.org/wiki/Special:FilePath/John_paul_2_coa.svg?width=300'/></li><li><h1> Slavorum apostoli 1985 </h1><img src='http://commons.wikimedia.org/wiki/Special:FilePath/John_paul_2_coa.svg?width=300'/></li><li><h1> Ut unum sint 1995 </h1><img src='http://commons.wikimedia.org/wiki/Special:FilePath/John_paul_2_coa.svg?width=300'/></li><li><h1> Veritatis splendor 1993 </h1><img src='http://commons.wikimedia.org/wiki/Special:FilePath/John_paul_2_coa.svg?width=300'/></li></ul><h1>Isaac Asimov </h1><h2>1919-10-04</h2><h2>1992-04-06</h2><img src='http://commons.wikimedia.org/wiki/Special:FilePath/Isaac.Asimov01.jpg?width=300'/><ul><li><h1> Druga Fundacja 1953 </h1><img src=''/></li><li><h1> Fundacja (powie\u015b\u0107) 1951 </h1><img src=''/></li><li><h1> Fundacja i Imperium 1952 </h1><img src=''/></li><li><h1> Preludium Fundacji 1988 </h1><img src=''/></li></ul><h1>Ilja Ilf </h1><h2>1897-10-15</h2><h2>1937-04-13</h2><img src='http://commons.wikimedia.org/wiki/Special:FilePath/Ilya_Ilf.jpg?width=300'/><ul><li><h1> Dwana\u015bcie krzese\u0142 1928 </h1><img src='http://commons.wikimedia.org/wiki/Special:FilePath/Ostap_Bender_Monument_in_Kharkiv.jpg?width=300'/></li></ul><h1>Jewgienij Pietrow (pisarz) </h1><h2>1903-12-13</h2><h2>1942-07-02</h2><img src='http://commons.wikimedia.org/wiki/Special:FilePath/Yevgeny_Petrov.jpg?width=300'/><ul></ul><h1>Gabriela Zapolska </h1><h2>1857-03-30</h2><h2>1921-12-17</h2><img src='http://commons.wikimedia.org/wiki/Special:FilePath/Gabriela_Zapolska.PNG?width=300'/><ul><li><h1> Ich czworo 1907 </h1><img src=''/></li></ul><h1>Jeffery Deaver </h1><h2>1950-05-06</h2><img src='http://commons.wikimedia.org/wiki/Special:FilePath/Jeffery_Deaver_October_2006.jpg?width=300'/><ul><li><h1> Kamienna ma\u0142pa 2002 </h1><img src=''/></li><li><h1> Mag (powie\u015b\u0107 J. Deavera) 2003 </h1><img src=''/></li></ul><h1>Terry Pratchett </h1><h2>1948-04-28</h2><img src='http://commons.wikimedia.org/wiki/Special:FilePath/Terry_Pratchett,_September_2009_1.jpg?width=300'/><ul><li><h1> Kot w stanie czystym 1989 </h1><img src=''/></li></ul><h1>Clive Staples Lewis </h1><h2>1898-11-29</h2><h2>1963-11-22</h2><img src='http://commons.wikimedia.org/wiki/Special:FilePath/Statue_of_C.S._Lewis,_Belfast.jpg?width=300'/><ul><li><h1> Ko\u0144 i jego ch\u0142opiec 1954 </h1><img src=''/></li></ul><h1>Andrzej Pilipiuk </h1><h2>1974-03-20</h2><img src='http://commons.wikimedia.org/wiki/Special:FilePath/Andrzej_Pilipiuk-Polcon2006.jpg?width=300'/><ul><li><h1> Kuzynki 2003 </h1><img src=''/></li></ul><h1>Ursula K. Le Guin </h1><h2>1929-10-21</h2><img src='http://commons.wikimedia.org/wiki/Special:FilePath/UrsulaLeGuin.01.jpg?width=300'/><ul><li><h1> Lewa r\u0119ka ciemno\u015bci 1969 </h1><img src=''/></li><li><h1> Czarnoksi\u0119\u017cnik z Archipelagu 1968 </h1><img src=''/></li></ul><h1>Iwan Turgieniew </h1><h2>1818-11-09</h2><h2>1883-09-03</h2><img src='http://commons.wikimedia.org/wiki/Special:FilePath/Turgenev_by_Repin.jpg?width=300'/><ul><li><h1> Ojcowie i dzieci 0 </h1><img src='http://commons.wikimedia.org/wiki/Special:FilePath/Otsy1880.jpg?width=300'/></li></ul><h1>George R. R. Martin </h1><h2>1948-09-20</h2><img src='http://commons.wikimedia.org/wiki/Special:FilePath/George_R_R_Martin_2011_Shankbone.JPG?width=300'/><ul><li><h1> Pie\u015b\u0144 Lodu i Ognia 1996 </h1><img src=''/></li></ul><h1>Ryszard Kapu\u015bci\u0144ski </h1><h2>1932-03-04</h2><h2>2007-01-23</h2><img src='http://commons.wikimedia.org/wiki/Special:FilePath/Ryszard_Kapuscinski_by_Kubik_17.05.1997_-_cropped.jpg?width=300'/><ul><li><h1> Podr\u00f3\u017ce z Herodotem 2004 </h1><img src=''/></li></ul><h1>Lucy Maud Montgomery </h1><h2>1874-11-30</h2><h2>1942-04-24</h2><img src='http://commons.wikimedia.org/wiki/Special:FilePath/Lucy_Maud_Montgomery.JPG?width=300'/><ul><li><h1> Rilla ze Z\u0142otego Brzegu 1921 </h1><img src=''/></li></ul><h1>Dorota Terakowska </h1><h2>1938-08-30</h2><h2>2004-01-04</h2><img src='http://commons.wikimedia.org/wiki/Special:FilePath/Dorota_Terakowska_grob.jpg?width=300'/><ul><li><h1> Tam gdzie spadaj\u0105 anio\u0142y 1998 </h1><img src=''/></li></ul><h1>Alfred Szklarski </h1><h2>1912-01-21</h2><h2>1992-04-09</h2><img src='http://commons.wikimedia.org/wiki/Special:FilePath/Katowice_-_pomnik_Alfred_Szklarski.JPG?width=300'/><ul><li><h1> Tomek u \u017ar\u00f3de\u0142 Amazonki 1967 </h1><img src=''/></li><li><h1> Tomek w Gran Chaco 1987 </h1><img src=''/></li><li><h1> Tomek w grobowcach faraon\u00f3w 1994 </h1><img src=''/></li></ul><h1>Adam Zelga </h1><h2>1953-03-11</h2><img src=''/><ul></ul><h1>Rafa\u0142 A. Ziemkiewicz </h1><h2>1964-09-13</h2><img src='http://commons.wikimedia.org/wiki/Special:FilePath/Rafa\u0142_Ziemkiewicz.jpg?width=300'/><ul><li><h1> Walc stulecia 1998 </h1><img src=''/></li></ul><h1>Anne Rice </h1><h2>1941-10-04</h2><img src='http://commons.wikimedia.org/wiki/Special:FilePath/Anne_Rice.jpg?width=300'/><ul><li><h1> Wampir Lestat 1985 </h1><img src=''/></li></ul><h1>Aleksander Majkowski </h1><h2>1876-07-17</h2><h2>1938-02-10</h2><img src='http://commons.wikimedia.org/wiki/Special:FilePath/POL_Polonia_Restituta_Oficerski_BAR.svg?width=300'/><ul><li><h1> \u017bycie i przygody Remusa 1938 </h1><img src=''/></li></ul><h1>Ian Fleming </h1><h2>1908-05-28</h2><h2>1964-08-12</h2><img src='http://commons.wikimedia.org/wiki/Special:FilePath/For_Your_Eyes_Only.jpg?width=300'/><ul><li><h1> Casino Royale (powie\u015b\u0107) 1953 </h1><img src=''/></li></ul><h1>Gene Wolfe </h1><h2>1931-05-07</h2><img src='http://commons.wikimedia.org/wiki/Special:FilePath/Gene_Wolfe,_2005.png?width=300'/><ul><li><h1> Cie\u0144 kata 1980 </h1><img src=''/></li></ul><h1>Paulo Coelho </h1><h2>1947-08-24</h2><img src='http://commons.wikimedia.org/wiki/Special:FilePath/Paulo_Coelho_nrkbeta.jpg?width=300'/><ul><li><h1> Czarownica z Portobello 2006 </h1><img src=''/></li></ul><h1>Tom Clancy </h1><h2>1947-04-12</h2><h2>2013-10-01</h2><img src='http://commons.wikimedia.org/wiki/Special:FilePath/Tom_Clancy_at_Burns_Library_cropped.jpg?width=300'/><ul><li><h1> Czas patriot\u00f3w (powie\u015b\u0107) 1987 </h1><img src=''/></li></ul>\""
       ]
      }
     ],
     "prompt_number": 31
    },
    {
     "cell_type": "code",
     "collapsed": false,
     "input": [],
     "language": "python",
     "metadata": {},
     "outputs": []
    }
   ],
   "metadata": {}
  }
 ]
}